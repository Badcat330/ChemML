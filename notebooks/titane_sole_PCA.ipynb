{
 "cells": [
  {
   "cell_type": "code",
   "execution_count": 18,
   "id": "4445a3f8-b0d5-4bc8-8c05-4a5e01e496ad",
   "metadata": {
    "tags": []
   },
   "outputs": [
    {
     "name": "stdout",
     "output_type": "stream",
     "text": [
      "Requirement already satisfied: plotly==5.14.1 in /Users/alexglushko/ProgProjects/ChemML/.venv/lib/python3.11/site-packages (5.14.1)\n",
      "Requirement already satisfied: tenacity>=6.2.0 in /Users/alexglushko/ProgProjects/ChemML/.venv/lib/python3.11/site-packages (from plotly==5.14.1) (8.2.2)\n",
      "Requirement already satisfied: packaging in /Users/alexglushko/ProgProjects/ChemML/.venv/lib/python3.11/site-packages (from plotly==5.14.1) (23.1)\n",
      "Requirement already satisfied: jupyterlab>=3 in /Users/alexglushko/ProgProjects/ChemML/.venv/lib/python3.11/site-packages (4.0.1)\n",
      "Requirement already satisfied: ipywidgets>=7.6 in /Users/alexglushko/ProgProjects/ChemML/.venv/lib/python3.11/site-packages (8.0.6)\n",
      "Requirement already satisfied: async-lru>=1.0.0 in /Users/alexglushko/ProgProjects/ChemML/.venv/lib/python3.11/site-packages (from jupyterlab>=3) (2.0.2)\n",
      "Requirement already satisfied: ipykernel in /Users/alexglushko/ProgProjects/ChemML/.venv/lib/python3.11/site-packages (from jupyterlab>=3) (6.23.1)\n",
      "Requirement already satisfied: jinja2>=3.0.3 in /Users/alexglushko/ProgProjects/ChemML/.venv/lib/python3.11/site-packages (from jupyterlab>=3) (3.1.2)\n",
      "Requirement already satisfied: jupyter-core in /Users/alexglushko/ProgProjects/ChemML/.venv/lib/python3.11/site-packages (from jupyterlab>=3) (5.3.0)\n",
      "Requirement already satisfied: jupyter-lsp>=2.0.0 in /Users/alexglushko/ProgProjects/ChemML/.venv/lib/python3.11/site-packages (from jupyterlab>=3) (2.2.0)\n",
      "Requirement already satisfied: jupyter-server<3,>=2.4.0 in /Users/alexglushko/ProgProjects/ChemML/.venv/lib/python3.11/site-packages (from jupyterlab>=3) (2.6.0)\n",
      "Requirement already satisfied: jupyterlab-server<3,>=2.19.0 in /Users/alexglushko/ProgProjects/ChemML/.venv/lib/python3.11/site-packages (from jupyterlab>=3) (2.22.1)\n",
      "Requirement already satisfied: notebook-shim>=0.2 in /Users/alexglushko/ProgProjects/ChemML/.venv/lib/python3.11/site-packages (from jupyterlab>=3) (0.2.3)\n",
      "Requirement already satisfied: packaging in /Users/alexglushko/ProgProjects/ChemML/.venv/lib/python3.11/site-packages (from jupyterlab>=3) (23.1)\n",
      "Requirement already satisfied: tornado>=6.2.0 in /Users/alexglushko/ProgProjects/ChemML/.venv/lib/python3.11/site-packages (from jupyterlab>=3) (6.3.2)\n",
      "Requirement already satisfied: traitlets in /Users/alexglushko/ProgProjects/ChemML/.venv/lib/python3.11/site-packages (from jupyterlab>=3) (5.9.0)\n",
      "Requirement already satisfied: ipython>=6.1.0 in /Users/alexglushko/ProgProjects/ChemML/.venv/lib/python3.11/site-packages (from ipywidgets>=7.6) (8.14.0)\n",
      "Requirement already satisfied: widgetsnbextension~=4.0.7 in /Users/alexglushko/ProgProjects/ChemML/.venv/lib/python3.11/site-packages (from ipywidgets>=7.6) (4.0.7)\n",
      "Requirement already satisfied: jupyterlab-widgets~=3.0.7 in /Users/alexglushko/ProgProjects/ChemML/.venv/lib/python3.11/site-packages (from ipywidgets>=7.6) (3.0.7)\n",
      "Requirement already satisfied: typing-extensions>=4.0.0 in /Users/alexglushko/ProgProjects/ChemML/.venv/lib/python3.11/site-packages (from async-lru>=1.0.0->jupyterlab>=3) (4.6.3)\n",
      "Requirement already satisfied: appnope in /Users/alexglushko/ProgProjects/ChemML/.venv/lib/python3.11/site-packages (from ipykernel->jupyterlab>=3) (0.1.3)\n",
      "Requirement already satisfied: comm>=0.1.1 in /Users/alexglushko/ProgProjects/ChemML/.venv/lib/python3.11/site-packages (from ipykernel->jupyterlab>=3) (0.1.3)\n",
      "Requirement already satisfied: debugpy>=1.6.5 in /Users/alexglushko/ProgProjects/ChemML/.venv/lib/python3.11/site-packages (from ipykernel->jupyterlab>=3) (1.6.7)\n",
      "Requirement already satisfied: jupyter-client>=6.1.12 in /Users/alexglushko/ProgProjects/ChemML/.venv/lib/python3.11/site-packages (from ipykernel->jupyterlab>=3) (8.2.0)\n",
      "Requirement already satisfied: matplotlib-inline>=0.1 in /Users/alexglushko/ProgProjects/ChemML/.venv/lib/python3.11/site-packages (from ipykernel->jupyterlab>=3) (0.1.6)\n",
      "Requirement already satisfied: nest-asyncio in /Users/alexglushko/ProgProjects/ChemML/.venv/lib/python3.11/site-packages (from ipykernel->jupyterlab>=3) (1.5.6)\n",
      "Requirement already satisfied: psutil in /Users/alexglushko/ProgProjects/ChemML/.venv/lib/python3.11/site-packages (from ipykernel->jupyterlab>=3) (5.9.5)\n",
      "Requirement already satisfied: pyzmq>=20 in /Users/alexglushko/ProgProjects/ChemML/.venv/lib/python3.11/site-packages (from ipykernel->jupyterlab>=3) (25.1.0)\n",
      "Requirement already satisfied: backcall in /Users/alexglushko/ProgProjects/ChemML/.venv/lib/python3.11/site-packages (from ipython>=6.1.0->ipywidgets>=7.6) (0.2.0)\n",
      "Requirement already satisfied: decorator in /Users/alexglushko/ProgProjects/ChemML/.venv/lib/python3.11/site-packages (from ipython>=6.1.0->ipywidgets>=7.6) (5.1.1)\n",
      "Requirement already satisfied: jedi>=0.16 in /Users/alexglushko/ProgProjects/ChemML/.venv/lib/python3.11/site-packages (from ipython>=6.1.0->ipywidgets>=7.6) (0.18.2)\n",
      "Requirement already satisfied: pickleshare in /Users/alexglushko/ProgProjects/ChemML/.venv/lib/python3.11/site-packages (from ipython>=6.1.0->ipywidgets>=7.6) (0.7.5)\n",
      "Requirement already satisfied: prompt-toolkit!=3.0.37,<3.1.0,>=3.0.30 in /Users/alexglushko/ProgProjects/ChemML/.venv/lib/python3.11/site-packages (from ipython>=6.1.0->ipywidgets>=7.6) (3.0.38)\n",
      "Requirement already satisfied: pygments>=2.4.0 in /Users/alexglushko/ProgProjects/ChemML/.venv/lib/python3.11/site-packages (from ipython>=6.1.0->ipywidgets>=7.6) (2.15.1)\n",
      "Requirement already satisfied: stack-data in /Users/alexglushko/ProgProjects/ChemML/.venv/lib/python3.11/site-packages (from ipython>=6.1.0->ipywidgets>=7.6) (0.6.2)\n",
      "Requirement already satisfied: pexpect>4.3 in /Users/alexglushko/ProgProjects/ChemML/.venv/lib/python3.11/site-packages (from ipython>=6.1.0->ipywidgets>=7.6) (4.8.0)\n",
      "Requirement already satisfied: MarkupSafe>=2.0 in /Users/alexglushko/ProgProjects/ChemML/.venv/lib/python3.11/site-packages (from jinja2>=3.0.3->jupyterlab>=3) (2.1.3)\n",
      "Requirement already satisfied: platformdirs>=2.5 in /Users/alexglushko/ProgProjects/ChemML/.venv/lib/python3.11/site-packages (from jupyter-core->jupyterlab>=3) (3.5.1)\n",
      "Requirement already satisfied: anyio>=3.1.0 in /Users/alexglushko/ProgProjects/ChemML/.venv/lib/python3.11/site-packages (from jupyter-server<3,>=2.4.0->jupyterlab>=3) (3.7.0)\n",
      "Requirement already satisfied: argon2-cffi in /Users/alexglushko/ProgProjects/ChemML/.venv/lib/python3.11/site-packages (from jupyter-server<3,>=2.4.0->jupyterlab>=3) (21.3.0)\n",
      "Requirement already satisfied: jupyter-events>=0.6.0 in /Users/alexglushko/ProgProjects/ChemML/.venv/lib/python3.11/site-packages (from jupyter-server<3,>=2.4.0->jupyterlab>=3) (0.6.3)\n",
      "Requirement already satisfied: jupyter-server-terminals in /Users/alexglushko/ProgProjects/ChemML/.venv/lib/python3.11/site-packages (from jupyter-server<3,>=2.4.0->jupyterlab>=3) (0.4.4)\n",
      "Requirement already satisfied: nbconvert>=6.4.4 in /Users/alexglushko/ProgProjects/ChemML/.venv/lib/python3.11/site-packages (from jupyter-server<3,>=2.4.0->jupyterlab>=3) (7.4.0)\n",
      "Requirement already satisfied: nbformat>=5.3.0 in /Users/alexglushko/ProgProjects/ChemML/.venv/lib/python3.11/site-packages (from jupyter-server<3,>=2.4.0->jupyterlab>=3) (5.9.0)\n",
      "Requirement already satisfied: overrides in /Users/alexglushko/ProgProjects/ChemML/.venv/lib/python3.11/site-packages (from jupyter-server<3,>=2.4.0->jupyterlab>=3) (7.3.1)\n",
      "Requirement already satisfied: prometheus-client in /Users/alexglushko/ProgProjects/ChemML/.venv/lib/python3.11/site-packages (from jupyter-server<3,>=2.4.0->jupyterlab>=3) (0.17.0)\n",
      "Requirement already satisfied: send2trash in /Users/alexglushko/ProgProjects/ChemML/.venv/lib/python3.11/site-packages (from jupyter-server<3,>=2.4.0->jupyterlab>=3) (1.8.2)\n",
      "Requirement already satisfied: terminado>=0.8.3 in /Users/alexglushko/ProgProjects/ChemML/.venv/lib/python3.11/site-packages (from jupyter-server<3,>=2.4.0->jupyterlab>=3) (0.17.1)\n",
      "Requirement already satisfied: websocket-client in /Users/alexglushko/ProgProjects/ChemML/.venv/lib/python3.11/site-packages (from jupyter-server<3,>=2.4.0->jupyterlab>=3) (1.5.2)\n",
      "Requirement already satisfied: babel>=2.10 in /Users/alexglushko/ProgProjects/ChemML/.venv/lib/python3.11/site-packages (from jupyterlab-server<3,>=2.19.0->jupyterlab>=3) (2.12.1)\n",
      "Requirement already satisfied: json5>=0.9.0 in /Users/alexglushko/ProgProjects/ChemML/.venv/lib/python3.11/site-packages (from jupyterlab-server<3,>=2.19.0->jupyterlab>=3) (0.9.14)\n",
      "Requirement already satisfied: jsonschema>=4.17.3 in /Users/alexglushko/ProgProjects/ChemML/.venv/lib/python3.11/site-packages (from jupyterlab-server<3,>=2.19.0->jupyterlab>=3) (4.17.3)\n",
      "Requirement already satisfied: requests>=2.28 in /Users/alexglushko/ProgProjects/ChemML/.venv/lib/python3.11/site-packages (from jupyterlab-server<3,>=2.19.0->jupyterlab>=3) (2.31.0)\n",
      "Requirement already satisfied: idna>=2.8 in /Users/alexglushko/ProgProjects/ChemML/.venv/lib/python3.11/site-packages (from anyio>=3.1.0->jupyter-server<3,>=2.4.0->jupyterlab>=3) (3.4)\n",
      "Requirement already satisfied: sniffio>=1.1 in /Users/alexglushko/ProgProjects/ChemML/.venv/lib/python3.11/site-packages (from anyio>=3.1.0->jupyter-server<3,>=2.4.0->jupyterlab>=3) (1.3.0)\n",
      "Requirement already satisfied: parso<0.9.0,>=0.8.0 in /Users/alexglushko/ProgProjects/ChemML/.venv/lib/python3.11/site-packages (from jedi>=0.16->ipython>=6.1.0->ipywidgets>=7.6) (0.8.3)\n",
      "Requirement already satisfied: attrs>=17.4.0 in /Users/alexglushko/ProgProjects/ChemML/.venv/lib/python3.11/site-packages (from jsonschema>=4.17.3->jupyterlab-server<3,>=2.19.0->jupyterlab>=3) (23.1.0)\n",
      "Requirement already satisfied: pyrsistent!=0.17.0,!=0.17.1,!=0.17.2,>=0.14.0 in /Users/alexglushko/ProgProjects/ChemML/.venv/lib/python3.11/site-packages (from jsonschema>=4.17.3->jupyterlab-server<3,>=2.19.0->jupyterlab>=3) (0.19.3)\n",
      "Requirement already satisfied: python-dateutil>=2.8.2 in /Users/alexglushko/ProgProjects/ChemML/.venv/lib/python3.11/site-packages (from jupyter-client>=6.1.12->ipykernel->jupyterlab>=3) (2.8.2)\n",
      "Requirement already satisfied: python-json-logger>=2.0.4 in /Users/alexglushko/ProgProjects/ChemML/.venv/lib/python3.11/site-packages (from jupyter-events>=0.6.0->jupyter-server<3,>=2.4.0->jupyterlab>=3) (2.0.7)\n",
      "Requirement already satisfied: pyyaml>=5.3 in /Users/alexglushko/ProgProjects/ChemML/.venv/lib/python3.11/site-packages (from jupyter-events>=0.6.0->jupyter-server<3,>=2.4.0->jupyterlab>=3) (6.0)\n",
      "Requirement already satisfied: rfc3339-validator in /Users/alexglushko/ProgProjects/ChemML/.venv/lib/python3.11/site-packages (from jupyter-events>=0.6.0->jupyter-server<3,>=2.4.0->jupyterlab>=3) (0.1.4)\n",
      "Requirement already satisfied: rfc3986-validator>=0.1.1 in /Users/alexglushko/ProgProjects/ChemML/.venv/lib/python3.11/site-packages (from jupyter-events>=0.6.0->jupyter-server<3,>=2.4.0->jupyterlab>=3) (0.1.1)\n",
      "Requirement already satisfied: beautifulsoup4 in /Users/alexglushko/ProgProjects/ChemML/.venv/lib/python3.11/site-packages (from nbconvert>=6.4.4->jupyter-server<3,>=2.4.0->jupyterlab>=3) (4.12.2)\n",
      "Requirement already satisfied: bleach in /Users/alexglushko/ProgProjects/ChemML/.venv/lib/python3.11/site-packages (from nbconvert>=6.4.4->jupyter-server<3,>=2.4.0->jupyterlab>=3) (6.0.0)\n",
      "Requirement already satisfied: defusedxml in /Users/alexglushko/ProgProjects/ChemML/.venv/lib/python3.11/site-packages (from nbconvert>=6.4.4->jupyter-server<3,>=2.4.0->jupyterlab>=3) (0.7.1)\n",
      "Requirement already satisfied: jupyterlab-pygments in /Users/alexglushko/ProgProjects/ChemML/.venv/lib/python3.11/site-packages (from nbconvert>=6.4.4->jupyter-server<3,>=2.4.0->jupyterlab>=3) (0.2.2)\n",
      "Requirement already satisfied: mistune<3,>=2.0.3 in /Users/alexglushko/ProgProjects/ChemML/.venv/lib/python3.11/site-packages (from nbconvert>=6.4.4->jupyter-server<3,>=2.4.0->jupyterlab>=3) (2.0.5)\n",
      "Requirement already satisfied: nbclient>=0.5.0 in /Users/alexglushko/ProgProjects/ChemML/.venv/lib/python3.11/site-packages (from nbconvert>=6.4.4->jupyter-server<3,>=2.4.0->jupyterlab>=3) (0.8.0)\n",
      "Requirement already satisfied: pandocfilters>=1.4.1 in /Users/alexglushko/ProgProjects/ChemML/.venv/lib/python3.11/site-packages (from nbconvert>=6.4.4->jupyter-server<3,>=2.4.0->jupyterlab>=3) (1.5.0)\n",
      "Requirement already satisfied: tinycss2 in /Users/alexglushko/ProgProjects/ChemML/.venv/lib/python3.11/site-packages (from nbconvert>=6.4.4->jupyter-server<3,>=2.4.0->jupyterlab>=3) (1.2.1)\n",
      "Requirement already satisfied: fastjsonschema in /Users/alexglushko/ProgProjects/ChemML/.venv/lib/python3.11/site-packages (from nbformat>=5.3.0->jupyter-server<3,>=2.4.0->jupyterlab>=3) (2.17.1)\n",
      "Requirement already satisfied: ptyprocess>=0.5 in /Users/alexglushko/ProgProjects/ChemML/.venv/lib/python3.11/site-packages (from pexpect>4.3->ipython>=6.1.0->ipywidgets>=7.6) (0.7.0)\n",
      "Requirement already satisfied: wcwidth in /Users/alexglushko/ProgProjects/ChemML/.venv/lib/python3.11/site-packages (from prompt-toolkit!=3.0.37,<3.1.0,>=3.0.30->ipython>=6.1.0->ipywidgets>=7.6) (0.2.6)\n",
      "Requirement already satisfied: charset-normalizer<4,>=2 in /Users/alexglushko/ProgProjects/ChemML/.venv/lib/python3.11/site-packages (from requests>=2.28->jupyterlab-server<3,>=2.19.0->jupyterlab>=3) (3.1.0)\n",
      "Requirement already satisfied: urllib3<3,>=1.21.1 in /Users/alexglushko/ProgProjects/ChemML/.venv/lib/python3.11/site-packages (from requests>=2.28->jupyterlab-server<3,>=2.19.0->jupyterlab>=3) (2.0.2)\n",
      "Requirement already satisfied: certifi>=2017.4.17 in /Users/alexglushko/ProgProjects/ChemML/.venv/lib/python3.11/site-packages (from requests>=2.28->jupyterlab-server<3,>=2.19.0->jupyterlab>=3) (2023.5.7)\n",
      "Requirement already satisfied: argon2-cffi-bindings in /Users/alexglushko/ProgProjects/ChemML/.venv/lib/python3.11/site-packages (from argon2-cffi->jupyter-server<3,>=2.4.0->jupyterlab>=3) (21.2.0)\n",
      "Requirement already satisfied: executing>=1.2.0 in /Users/alexglushko/ProgProjects/ChemML/.venv/lib/python3.11/site-packages (from stack-data->ipython>=6.1.0->ipywidgets>=7.6) (1.2.0)\n",
      "Requirement already satisfied: asttokens>=2.1.0 in /Users/alexglushko/ProgProjects/ChemML/.venv/lib/python3.11/site-packages (from stack-data->ipython>=6.1.0->ipywidgets>=7.6) (2.2.1)\n",
      "Requirement already satisfied: pure-eval in /Users/alexglushko/ProgProjects/ChemML/.venv/lib/python3.11/site-packages (from stack-data->ipython>=6.1.0->ipywidgets>=7.6) (0.2.2)\n",
      "Requirement already satisfied: six in /Users/alexglushko/ProgProjects/ChemML/.venv/lib/python3.11/site-packages (from asttokens>=2.1.0->stack-data->ipython>=6.1.0->ipywidgets>=7.6) (1.16.0)\n",
      "Requirement already satisfied: fqdn in /Users/alexglushko/ProgProjects/ChemML/.venv/lib/python3.11/site-packages (from jsonschema>=4.17.3->jupyterlab-server<3,>=2.19.0->jupyterlab>=3) (1.5.1)\n",
      "Requirement already satisfied: isoduration in /Users/alexglushko/ProgProjects/ChemML/.venv/lib/python3.11/site-packages (from jsonschema>=4.17.3->jupyterlab-server<3,>=2.19.0->jupyterlab>=3) (20.11.0)\n",
      "Requirement already satisfied: jsonpointer>1.13 in /Users/alexglushko/ProgProjects/ChemML/.venv/lib/python3.11/site-packages (from jsonschema>=4.17.3->jupyterlab-server<3,>=2.19.0->jupyterlab>=3) (2.3)\n",
      "Requirement already satisfied: uri-template in /Users/alexglushko/ProgProjects/ChemML/.venv/lib/python3.11/site-packages (from jsonschema>=4.17.3->jupyterlab-server<3,>=2.19.0->jupyterlab>=3) (1.2.0)\n",
      "Requirement already satisfied: webcolors>=1.11 in /Users/alexglushko/ProgProjects/ChemML/.venv/lib/python3.11/site-packages (from jsonschema>=4.17.3->jupyterlab-server<3,>=2.19.0->jupyterlab>=3) (1.13)\n",
      "Requirement already satisfied: cffi>=1.0.1 in /Users/alexglushko/ProgProjects/ChemML/.venv/lib/python3.11/site-packages (from argon2-cffi-bindings->argon2-cffi->jupyter-server<3,>=2.4.0->jupyterlab>=3) (1.15.1)\n",
      "Requirement already satisfied: soupsieve>1.2 in /Users/alexglushko/ProgProjects/ChemML/.venv/lib/python3.11/site-packages (from beautifulsoup4->nbconvert>=6.4.4->jupyter-server<3,>=2.4.0->jupyterlab>=3) (2.4.1)\n",
      "Requirement already satisfied: webencodings in /Users/alexglushko/ProgProjects/ChemML/.venv/lib/python3.11/site-packages (from bleach->nbconvert>=6.4.4->jupyter-server<3,>=2.4.0->jupyterlab>=3) (0.5.1)\n",
      "Requirement already satisfied: pycparser in /Users/alexglushko/ProgProjects/ChemML/.venv/lib/python3.11/site-packages (from cffi>=1.0.1->argon2-cffi-bindings->argon2-cffi->jupyter-server<3,>=2.4.0->jupyterlab>=3) (2.21)\n",
      "Requirement already satisfied: arrow>=0.15.0 in /Users/alexglushko/ProgProjects/ChemML/.venv/lib/python3.11/site-packages (from isoduration->jsonschema>=4.17.3->jupyterlab-server<3,>=2.19.0->jupyterlab>=3) (1.2.3)\n",
      "Requirement already satisfied: jupyter-dash in /Users/alexglushko/ProgProjects/ChemML/.venv/lib/python3.11/site-packages (0.4.2)\n",
      "Requirement already satisfied: dash in /Users/alexglushko/ProgProjects/ChemML/.venv/lib/python3.11/site-packages (from jupyter-dash) (2.10.2)\n",
      "Requirement already satisfied: requests in /Users/alexglushko/ProgProjects/ChemML/.venv/lib/python3.11/site-packages (from jupyter-dash) (2.31.0)\n",
      "Requirement already satisfied: flask in /Users/alexglushko/ProgProjects/ChemML/.venv/lib/python3.11/site-packages (from jupyter-dash) (2.2.5)\n",
      "Requirement already satisfied: retrying in /Users/alexglushko/ProgProjects/ChemML/.venv/lib/python3.11/site-packages (from jupyter-dash) (1.3.4)\n",
      "Requirement already satisfied: ipython in /Users/alexglushko/ProgProjects/ChemML/.venv/lib/python3.11/site-packages (from jupyter-dash) (8.14.0)\n",
      "Requirement already satisfied: ipykernel in /Users/alexglushko/ProgProjects/ChemML/.venv/lib/python3.11/site-packages (from jupyter-dash) (6.23.1)\n",
      "Requirement already satisfied: ansi2html in /Users/alexglushko/ProgProjects/ChemML/.venv/lib/python3.11/site-packages (from jupyter-dash) (1.8.0)\n",
      "Requirement already satisfied: nest-asyncio in /Users/alexglushko/ProgProjects/ChemML/.venv/lib/python3.11/site-packages (from jupyter-dash) (1.5.6)\n",
      "Requirement already satisfied: Werkzeug<2.3.0 in /Users/alexglushko/ProgProjects/ChemML/.venv/lib/python3.11/site-packages (from dash->jupyter-dash) (2.2.3)\n",
      "Requirement already satisfied: plotly>=5.0.0 in /Users/alexglushko/ProgProjects/ChemML/.venv/lib/python3.11/site-packages (from dash->jupyter-dash) (5.14.1)\n",
      "Requirement already satisfied: dash-html-components==2.0.0 in /Users/alexglushko/ProgProjects/ChemML/.venv/lib/python3.11/site-packages (from dash->jupyter-dash) (2.0.0)\n",
      "Requirement already satisfied: dash-core-components==2.0.0 in /Users/alexglushko/ProgProjects/ChemML/.venv/lib/python3.11/site-packages (from dash->jupyter-dash) (2.0.0)\n",
      "Requirement already satisfied: dash-table==5.0.0 in /Users/alexglushko/ProgProjects/ChemML/.venv/lib/python3.11/site-packages (from dash->jupyter-dash) (5.0.0)\n",
      "Requirement already satisfied: Jinja2>=3.0 in /Users/alexglushko/ProgProjects/ChemML/.venv/lib/python3.11/site-packages (from flask->jupyter-dash) (3.1.2)\n",
      "Requirement already satisfied: itsdangerous>=2.0 in /Users/alexglushko/ProgProjects/ChemML/.venv/lib/python3.11/site-packages (from flask->jupyter-dash) (2.1.2)\n",
      "Requirement already satisfied: click>=8.0 in /Users/alexglushko/ProgProjects/ChemML/.venv/lib/python3.11/site-packages (from flask->jupyter-dash) (8.1.3)\n",
      "Requirement already satisfied: appnope in /Users/alexglushko/ProgProjects/ChemML/.venv/lib/python3.11/site-packages (from ipykernel->jupyter-dash) (0.1.3)\n",
      "Requirement already satisfied: comm>=0.1.1 in /Users/alexglushko/ProgProjects/ChemML/.venv/lib/python3.11/site-packages (from ipykernel->jupyter-dash) (0.1.3)\n",
      "Requirement already satisfied: debugpy>=1.6.5 in /Users/alexglushko/ProgProjects/ChemML/.venv/lib/python3.11/site-packages (from ipykernel->jupyter-dash) (1.6.7)\n",
      "Requirement already satisfied: jupyter-client>=6.1.12 in /Users/alexglushko/ProgProjects/ChemML/.venv/lib/python3.11/site-packages (from ipykernel->jupyter-dash) (8.2.0)\n",
      "Requirement already satisfied: jupyter-core!=5.0.*,>=4.12 in /Users/alexglushko/ProgProjects/ChemML/.venv/lib/python3.11/site-packages (from ipykernel->jupyter-dash) (5.3.0)\n",
      "Requirement already satisfied: matplotlib-inline>=0.1 in /Users/alexglushko/ProgProjects/ChemML/.venv/lib/python3.11/site-packages (from ipykernel->jupyter-dash) (0.1.6)\n",
      "Requirement already satisfied: packaging in /Users/alexglushko/ProgProjects/ChemML/.venv/lib/python3.11/site-packages (from ipykernel->jupyter-dash) (23.1)\n",
      "Requirement already satisfied: psutil in /Users/alexglushko/ProgProjects/ChemML/.venv/lib/python3.11/site-packages (from ipykernel->jupyter-dash) (5.9.5)\n",
      "Requirement already satisfied: pyzmq>=20 in /Users/alexglushko/ProgProjects/ChemML/.venv/lib/python3.11/site-packages (from ipykernel->jupyter-dash) (25.1.0)\n",
      "Requirement already satisfied: tornado>=6.1 in /Users/alexglushko/ProgProjects/ChemML/.venv/lib/python3.11/site-packages (from ipykernel->jupyter-dash) (6.3.2)\n",
      "Requirement already satisfied: traitlets>=5.4.0 in /Users/alexglushko/ProgProjects/ChemML/.venv/lib/python3.11/site-packages (from ipykernel->jupyter-dash) (5.9.0)\n",
      "Requirement already satisfied: backcall in /Users/alexglushko/ProgProjects/ChemML/.venv/lib/python3.11/site-packages (from ipython->jupyter-dash) (0.2.0)\n",
      "Requirement already satisfied: decorator in /Users/alexglushko/ProgProjects/ChemML/.venv/lib/python3.11/site-packages (from ipython->jupyter-dash) (5.1.1)\n",
      "Requirement already satisfied: jedi>=0.16 in /Users/alexglushko/ProgProjects/ChemML/.venv/lib/python3.11/site-packages (from ipython->jupyter-dash) (0.18.2)\n",
      "Requirement already satisfied: pickleshare in /Users/alexglushko/ProgProjects/ChemML/.venv/lib/python3.11/site-packages (from ipython->jupyter-dash) (0.7.5)\n",
      "Requirement already satisfied: prompt-toolkit!=3.0.37,<3.1.0,>=3.0.30 in /Users/alexglushko/ProgProjects/ChemML/.venv/lib/python3.11/site-packages (from ipython->jupyter-dash) (3.0.38)\n",
      "Requirement already satisfied: pygments>=2.4.0 in /Users/alexglushko/ProgProjects/ChemML/.venv/lib/python3.11/site-packages (from ipython->jupyter-dash) (2.15.1)\n",
      "Requirement already satisfied: stack-data in /Users/alexglushko/ProgProjects/ChemML/.venv/lib/python3.11/site-packages (from ipython->jupyter-dash) (0.6.2)\n",
      "Requirement already satisfied: pexpect>4.3 in /Users/alexglushko/ProgProjects/ChemML/.venv/lib/python3.11/site-packages (from ipython->jupyter-dash) (4.8.0)\n",
      "Requirement already satisfied: charset-normalizer<4,>=2 in /Users/alexglushko/ProgProjects/ChemML/.venv/lib/python3.11/site-packages (from requests->jupyter-dash) (3.1.0)\n",
      "Requirement already satisfied: idna<4,>=2.5 in /Users/alexglushko/ProgProjects/ChemML/.venv/lib/python3.11/site-packages (from requests->jupyter-dash) (3.4)\n",
      "Requirement already satisfied: urllib3<3,>=1.21.1 in /Users/alexglushko/ProgProjects/ChemML/.venv/lib/python3.11/site-packages (from requests->jupyter-dash) (2.0.2)\n",
      "Requirement already satisfied: certifi>=2017.4.17 in /Users/alexglushko/ProgProjects/ChemML/.venv/lib/python3.11/site-packages (from requests->jupyter-dash) (2023.5.7)\n",
      "Requirement already satisfied: six>=1.7.0 in /Users/alexglushko/ProgProjects/ChemML/.venv/lib/python3.11/site-packages (from retrying->jupyter-dash) (1.16.0)\n",
      "Requirement already satisfied: parso<0.9.0,>=0.8.0 in /Users/alexglushko/ProgProjects/ChemML/.venv/lib/python3.11/site-packages (from jedi>=0.16->ipython->jupyter-dash) (0.8.3)\n",
      "Requirement already satisfied: MarkupSafe>=2.0 in /Users/alexglushko/ProgProjects/ChemML/.venv/lib/python3.11/site-packages (from Jinja2>=3.0->flask->jupyter-dash) (2.1.3)\n",
      "Requirement already satisfied: python-dateutil>=2.8.2 in /Users/alexglushko/ProgProjects/ChemML/.venv/lib/python3.11/site-packages (from jupyter-client>=6.1.12->ipykernel->jupyter-dash) (2.8.2)\n",
      "Requirement already satisfied: platformdirs>=2.5 in /Users/alexglushko/ProgProjects/ChemML/.venv/lib/python3.11/site-packages (from jupyter-core!=5.0.*,>=4.12->ipykernel->jupyter-dash) (3.5.1)\n",
      "Requirement already satisfied: ptyprocess>=0.5 in /Users/alexglushko/ProgProjects/ChemML/.venv/lib/python3.11/site-packages (from pexpect>4.3->ipython->jupyter-dash) (0.7.0)\n",
      "Requirement already satisfied: tenacity>=6.2.0 in /Users/alexglushko/ProgProjects/ChemML/.venv/lib/python3.11/site-packages (from plotly>=5.0.0->dash->jupyter-dash) (8.2.2)\n",
      "Requirement already satisfied: wcwidth in /Users/alexglushko/ProgProjects/ChemML/.venv/lib/python3.11/site-packages (from prompt-toolkit!=3.0.37,<3.1.0,>=3.0.30->ipython->jupyter-dash) (0.2.6)\n",
      "Requirement already satisfied: executing>=1.2.0 in /Users/alexglushko/ProgProjects/ChemML/.venv/lib/python3.11/site-packages (from stack-data->ipython->jupyter-dash) (1.2.0)\n",
      "Requirement already satisfied: asttokens>=2.1.0 in /Users/alexglushko/ProgProjects/ChemML/.venv/lib/python3.11/site-packages (from stack-data->ipython->jupyter-dash) (2.2.1)\n",
      "Requirement already satisfied: pure-eval in /Users/alexglushko/ProgProjects/ChemML/.venv/lib/python3.11/site-packages (from stack-data->ipython->jupyter-dash) (0.2.2)\n",
      "Requirement already satisfied: kaleido in /Users/alexglushko/ProgProjects/ChemML/.venv/lib/python3.11/site-packages (0.2.1)\n",
      "Requirement already satisfied: opentsne in /Users/alexglushko/ProgProjects/ChemML/.venv/lib/python3.11/site-packages (1.0.0)\n",
      "Requirement already satisfied: numpy>=1.16.6 in /Users/alexglushko/ProgProjects/ChemML/.venv/lib/python3.11/site-packages (from opentsne) (1.24.3)\n",
      "Requirement already satisfied: scikit-learn>=0.20 in /Users/alexglushko/ProgProjects/ChemML/.venv/lib/python3.11/site-packages (from opentsne) (1.2.2)\n",
      "Requirement already satisfied: scipy in /Users/alexglushko/ProgProjects/ChemML/.venv/lib/python3.11/site-packages (from opentsne) (1.10.1)\n",
      "Requirement already satisfied: joblib>=1.1.1 in /Users/alexglushko/ProgProjects/ChemML/.venv/lib/python3.11/site-packages (from scikit-learn>=0.20->opentsne) (1.2.0)\n",
      "Requirement already satisfied: threadpoolctl>=2.0.0 in /Users/alexglushko/ProgProjects/ChemML/.venv/lib/python3.11/site-packages (from scikit-learn>=0.20->opentsne) (3.1.0)\n",
      "Requirement already satisfied: nbformat in /Users/alexglushko/ProgProjects/ChemML/.venv/lib/python3.11/site-packages (5.9.0)\n",
      "Requirement already satisfied: fastjsonschema in /Users/alexglushko/ProgProjects/ChemML/.venv/lib/python3.11/site-packages (from nbformat) (2.17.1)\n",
      "Requirement already satisfied: jsonschema>=2.6 in /Users/alexglushko/ProgProjects/ChemML/.venv/lib/python3.11/site-packages (from nbformat) (4.17.3)\n",
      "Requirement already satisfied: jupyter-core in /Users/alexglushko/ProgProjects/ChemML/.venv/lib/python3.11/site-packages (from nbformat) (5.3.0)\n",
      "Requirement already satisfied: traitlets>=5.1 in /Users/alexglushko/ProgProjects/ChemML/.venv/lib/python3.11/site-packages (from nbformat) (5.9.0)\n",
      "Requirement already satisfied: attrs>=17.4.0 in /Users/alexglushko/ProgProjects/ChemML/.venv/lib/python3.11/site-packages (from jsonschema>=2.6->nbformat) (23.1.0)\n",
      "Requirement already satisfied: pyrsistent!=0.17.0,!=0.17.1,!=0.17.2,>=0.14.0 in /Users/alexglushko/ProgProjects/ChemML/.venv/lib/python3.11/site-packages (from jsonschema>=2.6->nbformat) (0.19.3)\n",
      "Requirement already satisfied: platformdirs>=2.5 in /Users/alexglushko/ProgProjects/ChemML/.venv/lib/python3.11/site-packages (from jupyter-core->nbformat) (3.5.1)\n",
      "Requirement already satisfied: pandas in /Users/alexglushko/ProgProjects/ChemML/.venv/lib/python3.11/site-packages (2.0.2)\n",
      "Requirement already satisfied: python-dateutil>=2.8.2 in /Users/alexglushko/ProgProjects/ChemML/.venv/lib/python3.11/site-packages (from pandas) (2.8.2)\n",
      "Requirement already satisfied: pytz>=2020.1 in /Users/alexglushko/ProgProjects/ChemML/.venv/lib/python3.11/site-packages (from pandas) (2023.3)\n",
      "Requirement already satisfied: tzdata>=2022.1 in /Users/alexglushko/ProgProjects/ChemML/.venv/lib/python3.11/site-packages (from pandas) (2023.3)\n",
      "Requirement already satisfied: numpy>=1.21.0 in /Users/alexglushko/ProgProjects/ChemML/.venv/lib/python3.11/site-packages (from pandas) (1.24.3)\n",
      "Requirement already satisfied: six>=1.5 in /Users/alexglushko/ProgProjects/ChemML/.venv/lib/python3.11/site-packages (from python-dateutil>=2.8.2->pandas) (1.16.0)\n",
      "Requirement already satisfied: seaborn in /Users/alexglushko/ProgProjects/ChemML/.venv/lib/python3.11/site-packages (0.12.2)\n",
      "Requirement already satisfied: numpy!=1.24.0,>=1.17 in /Users/alexglushko/ProgProjects/ChemML/.venv/lib/python3.11/site-packages (from seaborn) (1.24.3)\n",
      "Requirement already satisfied: pandas>=0.25 in /Users/alexglushko/ProgProjects/ChemML/.venv/lib/python3.11/site-packages (from seaborn) (2.0.2)\n",
      "Requirement already satisfied: matplotlib!=3.6.1,>=3.1 in /Users/alexglushko/ProgProjects/ChemML/.venv/lib/python3.11/site-packages (from seaborn) (3.7.1)\n",
      "Requirement already satisfied: contourpy>=1.0.1 in /Users/alexglushko/ProgProjects/ChemML/.venv/lib/python3.11/site-packages (from matplotlib!=3.6.1,>=3.1->seaborn) (1.0.7)\n",
      "Requirement already satisfied: cycler>=0.10 in /Users/alexglushko/ProgProjects/ChemML/.venv/lib/python3.11/site-packages (from matplotlib!=3.6.1,>=3.1->seaborn) (0.11.0)\n",
      "Requirement already satisfied: fonttools>=4.22.0 in /Users/alexglushko/ProgProjects/ChemML/.venv/lib/python3.11/site-packages (from matplotlib!=3.6.1,>=3.1->seaborn) (4.39.4)\n",
      "Requirement already satisfied: kiwisolver>=1.0.1 in /Users/alexglushko/ProgProjects/ChemML/.venv/lib/python3.11/site-packages (from matplotlib!=3.6.1,>=3.1->seaborn) (1.4.4)\n",
      "Requirement already satisfied: packaging>=20.0 in /Users/alexglushko/ProgProjects/ChemML/.venv/lib/python3.11/site-packages (from matplotlib!=3.6.1,>=3.1->seaborn) (23.1)\n",
      "Requirement already satisfied: pillow>=6.2.0 in /Users/alexglushko/ProgProjects/ChemML/.venv/lib/python3.11/site-packages (from matplotlib!=3.6.1,>=3.1->seaborn) (9.5.0)\n",
      "Requirement already satisfied: pyparsing>=2.3.1 in /Users/alexglushko/ProgProjects/ChemML/.venv/lib/python3.11/site-packages (from matplotlib!=3.6.1,>=3.1->seaborn) (3.0.9)\n",
      "Requirement already satisfied: python-dateutil>=2.7 in /Users/alexglushko/ProgProjects/ChemML/.venv/lib/python3.11/site-packages (from matplotlib!=3.6.1,>=3.1->seaborn) (2.8.2)\n",
      "Requirement already satisfied: pytz>=2020.1 in /Users/alexglushko/ProgProjects/ChemML/.venv/lib/python3.11/site-packages (from pandas>=0.25->seaborn) (2023.3)\n",
      "Requirement already satisfied: tzdata>=2022.1 in /Users/alexglushko/ProgProjects/ChemML/.venv/lib/python3.11/site-packages (from pandas>=0.25->seaborn) (2023.3)\n",
      "Requirement already satisfied: six>=1.5 in /Users/alexglushko/ProgProjects/ChemML/.venv/lib/python3.11/site-packages (from python-dateutil>=2.7->matplotlib!=3.6.1,>=3.1->seaborn) (1.16.0)\n",
      "Requirement already satisfied: openpyxl in /Users/alexglushko/ProgProjects/ChemML/.venv/lib/python3.11/site-packages (3.1.2)\n",
      "Requirement already satisfied: et-xmlfile in /Users/alexglushko/ProgProjects/ChemML/.venv/lib/python3.11/site-packages (from openpyxl) (1.1.0)\n",
      "Requirement already satisfied: matplotlib in /Users/alexglushko/ProgProjects/ChemML/.venv/lib/python3.11/site-packages (3.7.1)\n",
      "Requirement already satisfied: contourpy>=1.0.1 in /Users/alexglushko/ProgProjects/ChemML/.venv/lib/python3.11/site-packages (from matplotlib) (1.0.7)\n",
      "Requirement already satisfied: cycler>=0.10 in /Users/alexglushko/ProgProjects/ChemML/.venv/lib/python3.11/site-packages (from matplotlib) (0.11.0)\n",
      "Requirement already satisfied: fonttools>=4.22.0 in /Users/alexglushko/ProgProjects/ChemML/.venv/lib/python3.11/site-packages (from matplotlib) (4.39.4)\n",
      "Requirement already satisfied: kiwisolver>=1.0.1 in /Users/alexglushko/ProgProjects/ChemML/.venv/lib/python3.11/site-packages (from matplotlib) (1.4.4)\n",
      "Requirement already satisfied: numpy>=1.20 in /Users/alexglushko/ProgProjects/ChemML/.venv/lib/python3.11/site-packages (from matplotlib) (1.24.3)\n",
      "Requirement already satisfied: packaging>=20.0 in /Users/alexglushko/ProgProjects/ChemML/.venv/lib/python3.11/site-packages (from matplotlib) (23.1)\n",
      "Requirement already satisfied: pillow>=6.2.0 in /Users/alexglushko/ProgProjects/ChemML/.venv/lib/python3.11/site-packages (from matplotlib) (9.5.0)\n",
      "Requirement already satisfied: pyparsing>=2.3.1 in /Users/alexglushko/ProgProjects/ChemML/.venv/lib/python3.11/site-packages (from matplotlib) (3.0.9)\n",
      "Requirement already satisfied: python-dateutil>=2.7 in /Users/alexglushko/ProgProjects/ChemML/.venv/lib/python3.11/site-packages (from matplotlib) (2.8.2)\n",
      "Requirement already satisfied: six>=1.5 in /Users/alexglushko/ProgProjects/ChemML/.venv/lib/python3.11/site-packages (from python-dateutil>=2.7->matplotlib) (1.16.0)\n",
      "Requirement already satisfied: scikit-learn in /Users/alexglushko/ProgProjects/ChemML/.venv/lib/python3.11/site-packages (1.2.2)\n",
      "Requirement already satisfied: numpy>=1.17.3 in /Users/alexglushko/ProgProjects/ChemML/.venv/lib/python3.11/site-packages (from scikit-learn) (1.24.3)\n",
      "Requirement already satisfied: scipy>=1.3.2 in /Users/alexglushko/ProgProjects/ChemML/.venv/lib/python3.11/site-packages (from scikit-learn) (1.10.1)\n",
      "Requirement already satisfied: joblib>=1.1.1 in /Users/alexglushko/ProgProjects/ChemML/.venv/lib/python3.11/site-packages (from scikit-learn) (1.2.0)\n",
      "Requirement already satisfied: threadpoolctl>=2.0.0 in /Users/alexglushko/ProgProjects/ChemML/.venv/lib/python3.11/site-packages (from scikit-learn) (3.1.0)\n"
     ]
    }
   ],
   "source": [
    "!pip install plotly==5.14.1\n",
    "!pip install \"jupyterlab>=3\" \"ipywidgets>=7.6\"\n",
    "!pip install jupyter-dash\n",
    "!pip install -U kaleido\n",
    "!pip install opentsne\n",
    "!pip install nbformat\n",
    "!pip install pandas\n",
    "!pip install seaborn\n",
    "!pip install openpyxl\n",
    "!pip install matplotlib\n",
    "!pip install scikit-learn"
   ]
  },
  {
   "cell_type": "code",
   "execution_count": 11,
   "id": "802fc552-3595-4a43-be7e-cea583d65509",
   "metadata": {
    "tags": []
   },
   "outputs": [],
   "source": [
    "import numpy as np\n",
    "import pandas as pd\n",
    "import openpyxl as xl\n",
    "import FILibExcel\n",
    "import seaborn as sns\n",
    "import matplotlib.pyplot as plt"
   ]
  },
  {
   "cell_type": "code",
   "execution_count": 12,
   "id": "c41a3900-acaf-4bfb-a39f-919473abfd1c",
   "metadata": {
    "tags": []
   },
   "outputs": [],
   "source": [
    "excel_path = r\"mock/titanium sols.xlsx\""
   ]
  },
  {
   "cell_type": "code",
   "execution_count": 13,
   "id": "53f8a132-8fbd-420d-834b-f0d0b5188b1a",
   "metadata": {
    "tags": []
   },
   "outputs": [
    {
     "name": "stdout",
     "output_type": "stream",
     "text": [
      "\n",
      "worksheet name: Sheet1\n",
      "tables in worksheet: 0\n",
      "\n",
      "worksheet name: Experiment_data\n",
      "tables in worksheet: 1\n",
      "table name: Table1\n",
      "\n",
      "worksheet name: Experiment_data_2\n",
      "tables in worksheet: 1\n",
      "table name: Table2\n"
     ]
    }
   ],
   "source": [
    "tables_dict = FILibExcel.get_all_tables(file_name=excel_path)\n",
    "df = tables_dict[\"Table1\"]['dataframe']\n",
    "df = df.fillna(value=0)"
   ]
  },
  {
   "cell_type": "code",
   "execution_count": 14,
   "id": "aa1fe05b-be72-414d-85f0-44f1d5601283",
   "metadata": {
    "tags": []
   },
   "outputs": [
    {
     "data": {
      "text/html": [
       "<div>\n",
       "<style scoped>\n",
       "    .dataframe tbody tr th:only-of-type {\n",
       "        vertical-align: middle;\n",
       "    }\n",
       "\n",
       "    .dataframe tbody tr th {\n",
       "        vertical-align: top;\n",
       "    }\n",
       "\n",
       "    .dataframe thead th {\n",
       "        text-align: right;\n",
       "    }\n",
       "</style>\n",
       "<table border=\"1\" class=\"dataframe\">\n",
       "  <thead>\n",
       "    <tr style=\"text-align: right;\">\n",
       "      <th></th>\n",
       "      <th>Composition mixtures</th>\n",
       "      <th>t, °С</th>\n",
       "      <th>t, min</th>\n",
       "      <th>с(acid), mol/l</th>\n",
       "      <th>с(Ti4+), mol/l</th>\n",
       "      <th>ultrasound</th>\n",
       "      <th>d, nm</th>\n",
       "      <th>Contents, %</th>\n",
       "      <th>Stability of sols, days</th>\n",
       "    </tr>\n",
       "  </thead>\n",
       "  <tbody>\n",
       "    <tr>\n",
       "      <th>0</th>\n",
       "      <td>H2O + HNO3 + TiIPO + ButOH</td>\n",
       "      <td>45</td>\n",
       "      <td>60</td>\n",
       "      <td>4</td>\n",
       "      <td>0.5</td>\n",
       "      <td>0</td>\n",
       "      <td>618.5</td>\n",
       "      <td>100.0</td>\n",
       "      <td>16</td>\n",
       "    </tr>\n",
       "    <tr>\n",
       "      <th>1</th>\n",
       "      <td>H2O + HNO3 + TiIPO + ButOH</td>\n",
       "      <td>80</td>\n",
       "      <td>10</td>\n",
       "      <td>4</td>\n",
       "      <td>0.5</td>\n",
       "      <td>0</td>\n",
       "      <td>978.1</td>\n",
       "      <td>100.0</td>\n",
       "      <td>16</td>\n",
       "    </tr>\n",
       "    <tr>\n",
       "      <th>2</th>\n",
       "      <td>H2O + HNO3 + TiIPO + ButOH</td>\n",
       "      <td>45</td>\n",
       "      <td>20</td>\n",
       "      <td>4</td>\n",
       "      <td>0.5</td>\n",
       "      <td>0</td>\n",
       "      <td>2.0</td>\n",
       "      <td>100.0</td>\n",
       "      <td>90</td>\n",
       "    </tr>\n",
       "    <tr>\n",
       "      <th>3</th>\n",
       "      <td>H2O + HNO3 + TiIPO + ButOH</td>\n",
       "      <td>45</td>\n",
       "      <td>20</td>\n",
       "      <td>4</td>\n",
       "      <td>0.47</td>\n",
       "      <td>0</td>\n",
       "      <td>2.628</td>\n",
       "      <td>100.0</td>\n",
       "      <td>60</td>\n",
       "    </tr>\n",
       "    <tr>\n",
       "      <th>4</th>\n",
       "      <td>H2O + HNO3 + TiIPO + IPOОН</td>\n",
       "      <td>50</td>\n",
       "      <td>20</td>\n",
       "      <td>4</td>\n",
       "      <td>0.2</td>\n",
       "      <td>0</td>\n",
       "      <td>1712</td>\n",
       "      <td>100.0</td>\n",
       "      <td>16</td>\n",
       "    </tr>\n",
       "  </tbody>\n",
       "</table>\n",
       "</div>"
      ],
      "text/plain": [
       "         Composition mixtures t, °С t, min с(acid), mol/l с(Ti4+), mol/l  \\\n",
       "0  H2O + HNO3 + TiIPO + ButOH    45     60              4            0.5   \n",
       "1  H2O + HNO3 + TiIPO + ButOH    80     10              4            0.5   \n",
       "2  H2O + HNO3 + TiIPO + ButOH    45     20              4            0.5   \n",
       "3  H2O + HNO3 + TiIPO + ButOH    45     20              4           0.47   \n",
       "4  H2O + HNO3 + TiIPO + IPOОН    50     20              4            0.2   \n",
       "\n",
       "  ultrasound   d, nm Contents, % Stability of sols, days  \n",
       "0           0  618.5       100.0                      16  \n",
       "1           0  978.1       100.0                      16  \n",
       "2           0    2.0       100.0                      90  \n",
       "3           0  2.628       100.0                      60  \n",
       "4           0   1712       100.0                      16  "
      ]
     },
     "execution_count": 14,
     "metadata": {},
     "output_type": "execute_result"
    }
   ],
   "source": [
    "df.head()"
   ]
  },
  {
   "cell_type": "code",
   "execution_count": 15,
   "id": "573d738d-4552-4ea2-9ef8-aafd74235173",
   "metadata": {
    "tags": []
   },
   "outputs": [
    {
     "data": {
      "text/html": [
       "<div>\n",
       "<style scoped>\n",
       "    .dataframe tbody tr th:only-of-type {\n",
       "        vertical-align: middle;\n",
       "    }\n",
       "\n",
       "    .dataframe tbody tr th {\n",
       "        vertical-align: top;\n",
       "    }\n",
       "\n",
       "    .dataframe thead th {\n",
       "        text-align: right;\n",
       "    }\n",
       "</style>\n",
       "<table border=\"1\" class=\"dataframe\">\n",
       "  <thead>\n",
       "    <tr style=\"text-align: right;\">\n",
       "      <th></th>\n",
       "      <th>count</th>\n",
       "      <th>mean</th>\n",
       "      <th>std</th>\n",
       "      <th>min</th>\n",
       "      <th>25%</th>\n",
       "      <th>50%</th>\n",
       "      <th>75%</th>\n",
       "      <th>max</th>\n",
       "    </tr>\n",
       "  </thead>\n",
       "  <tbody>\n",
       "    <tr>\n",
       "      <th>t, °С</th>\n",
       "      <td>71.0</td>\n",
       "      <td>62.619718</td>\n",
       "      <td>19.485061</td>\n",
       "      <td>20.00</td>\n",
       "      <td>45.0000</td>\n",
       "      <td>71.000</td>\n",
       "      <td>80.00</td>\n",
       "      <td>93.00</td>\n",
       "    </tr>\n",
       "    <tr>\n",
       "      <th>t, min</th>\n",
       "      <td>71.0</td>\n",
       "      <td>30.633803</td>\n",
       "      <td>30.194720</td>\n",
       "      <td>8.00</td>\n",
       "      <td>11.0000</td>\n",
       "      <td>12.000</td>\n",
       "      <td>57.00</td>\n",
       "      <td>130.00</td>\n",
       "    </tr>\n",
       "    <tr>\n",
       "      <th>с(acid), mol/l</th>\n",
       "      <td>71.0</td>\n",
       "      <td>0.919155</td>\n",
       "      <td>1.468489</td>\n",
       "      <td>0.10</td>\n",
       "      <td>0.1000</td>\n",
       "      <td>0.100</td>\n",
       "      <td>0.53</td>\n",
       "      <td>4.00</td>\n",
       "    </tr>\n",
       "    <tr>\n",
       "      <th>с(Ti4+), mol/l</th>\n",
       "      <td>71.0</td>\n",
       "      <td>0.427042</td>\n",
       "      <td>0.195115</td>\n",
       "      <td>0.14</td>\n",
       "      <td>0.2000</td>\n",
       "      <td>0.520</td>\n",
       "      <td>0.60</td>\n",
       "      <td>0.62</td>\n",
       "    </tr>\n",
       "    <tr>\n",
       "      <th>ultrasound</th>\n",
       "      <td>71.0</td>\n",
       "      <td>0.169014</td>\n",
       "      <td>0.413553</td>\n",
       "      <td>0.00</td>\n",
       "      <td>0.0000</td>\n",
       "      <td>0.000</td>\n",
       "      <td>0.00</td>\n",
       "      <td>1.50</td>\n",
       "    </tr>\n",
       "    <tr>\n",
       "      <th>d, nm</th>\n",
       "      <td>71.0</td>\n",
       "      <td>669.500366</td>\n",
       "      <td>897.495190</td>\n",
       "      <td>0.70</td>\n",
       "      <td>2.0495</td>\n",
       "      <td>2.763</td>\n",
       "      <td>2000.00</td>\n",
       "      <td>2159.00</td>\n",
       "    </tr>\n",
       "    <tr>\n",
       "      <th>Contents, %</th>\n",
       "      <td>71.0</td>\n",
       "      <td>97.030986</td>\n",
       "      <td>14.362984</td>\n",
       "      <td>0.50</td>\n",
       "      <td>100.0000</td>\n",
       "      <td>100.000</td>\n",
       "      <td>100.00</td>\n",
       "      <td>100.00</td>\n",
       "    </tr>\n",
       "    <tr>\n",
       "      <th>Stability of sols, days</th>\n",
       "      <td>71.0</td>\n",
       "      <td>25.577465</td>\n",
       "      <td>24.248807</td>\n",
       "      <td>0.00</td>\n",
       "      <td>2.0000</td>\n",
       "      <td>16.000</td>\n",
       "      <td>40.00</td>\n",
       "      <td>90.00</td>\n",
       "    </tr>\n",
       "  </tbody>\n",
       "</table>\n",
       "</div>"
      ],
      "text/plain": [
       "                         count        mean         std    min       25%  \\\n",
       "t, °С                     71.0   62.619718   19.485061  20.00   45.0000   \n",
       "t, min                    71.0   30.633803   30.194720   8.00   11.0000   \n",
       "с(acid), mol/l            71.0    0.919155    1.468489   0.10    0.1000   \n",
       "с(Ti4+), mol/l            71.0    0.427042    0.195115   0.14    0.2000   \n",
       "ultrasound                71.0    0.169014    0.413553   0.00    0.0000   \n",
       "d, nm                     71.0  669.500366  897.495190   0.70    2.0495   \n",
       "Contents, %               71.0   97.030986   14.362984   0.50  100.0000   \n",
       "Stability of sols, days   71.0   25.577465   24.248807   0.00    2.0000   \n",
       "\n",
       "                             50%      75%      max  \n",
       "t, °С                     71.000    80.00    93.00  \n",
       "t, min                    12.000    57.00   130.00  \n",
       "с(acid), mol/l             0.100     0.53     4.00  \n",
       "с(Ti4+), mol/l             0.520     0.60     0.62  \n",
       "ultrasound                 0.000     0.00     1.50  \n",
       "d, nm                      2.763  2000.00  2159.00  \n",
       "Contents, %              100.000   100.00   100.00  \n",
       "Stability of sols, days   16.000    40.00    90.00  "
      ]
     },
     "execution_count": 15,
     "metadata": {},
     "output_type": "execute_result"
    }
   ],
   "source": [
    "df.drop('Composition mixtures', axis=1).astype('float').describe().T"
   ]
  },
  {
   "cell_type": "code",
   "execution_count": 16,
   "id": "933c2651-d7da-42e3-8d8a-c4f9e2a4cfcd",
   "metadata": {
    "tags": []
   },
   "outputs": [
    {
     "data": {
      "image/png": "[encoded data removed]",
      "text/plain": [
       "<Figure size 2000x3500 with 8 Axes>"
      ]
     },
     "metadata": {},
     "output_type": "display_data"
    }
   ],
   "source": [
    "import matplotlib.pyplot as plt\n",
    "import seaborn as sns\n",
    "\n",
    "fig, axes = plt.subplots(ncols=2, nrows=4)\n",
    "fig.set_size_inches(20, 35)\n",
    "\n",
    "for col, ax in zip(df.drop('Composition mixtures', axis=1), axes.flat):\n",
    "    sns.histplot(df[col].astype('float'), ax=ax).set(title=f'{col} distribution')\n",
    "\n",
    "fig.subplots_adjust(hspace=0.35)\n",
    "plt.show()"
   ]
  },
  {
   "cell_type": "code",
   "execution_count": 17,
   "id": "e0ecade5-16a3-4a0b-a959-61e59df47549",
   "metadata": {
    "tags": []
   },
   "outputs": [],
   "source": [
    "df_clear =  df.drop('Composition mixtures', axis=1)\n",
    "df_clear = df_clear.astype('float')"
   ]
  },
  {
   "cell_type": "code",
   "execution_count": 18,
   "id": "7bb86b67",
   "metadata": {
    "tags": []
   },
   "outputs": [
    {
     "data": {
      "text/plain": [
       "Index(['t, °С', 't, min', 'с(acid), mol/l', 'с(Ti4+), mol/l', 'ultrasound ',\n",
       "       'd, nm', 'Contents, %', 'Stability of sols, days'],\n",
       "      dtype='object')"
      ]
     },
     "execution_count": 18,
     "metadata": {},
     "output_type": "execute_result"
    }
   ],
   "source": [
    "df_clear.columns"
   ]
  },
  {
   "cell_type": "code",
   "execution_count": 90,
   "id": "14a5b739",
   "metadata": {},
   "outputs": [],
   "source": [
    "df_plot = df_clear.copy(deep=True)\n",
    "\n",
    "def replace_func_days(x):\n",
    "    if x < 20:\n",
    "        return \"< 20\"\n",
    "    else:\n",
    "        return str(x)\n",
    "\n",
    "# def replace_func_d(x):\n",
    "#     if x < 50:\n",
    "#         return \"< 50\"\n",
    "#     else:\n",
    "#         return str(x)\n",
    "\n",
    "df_plot['Stability of sols, days'] = df_plot['Stability of sols, days'].apply(replace_func_days)\n",
    "# df_plot['d, nm'] = df_plot['d, nm'].apply(replace_func_d)"
   ]
  },
  {
   "cell_type": "code",
   "execution_count": 86,
   "id": "a60ab6cb",
   "metadata": {},
   "outputs": [
    {
     "data": {
      "image/png": "[encoded data removed]",
      "text/plain": [
       "<Figure size 2000x2500 with 6 Axes>"
      ]
     },
     "metadata": {},
     "output_type": "display_data"
    }
   ],
   "source": [
    "fig, axes = plt.subplots(ncols=2, nrows=3)\n",
    "fig.set_size_inches(20, 25)\n",
    "\n",
    "for col, ax in zip(['t, °С', 't, min', 'с(acid), mol/l', 'с(Ti4+), mol/l', 'ultrasound '], axes.flat):\n",
    "    sns.histplot(df_plot, x=col, hue='Stability of sols, days', multiple=\"stack\", palette='mako', ax=ax).set(title=f'{col} distribution')\n",
    "\n",
    "fig.subplots_adjust(hspace=0.15)\n",
    "axes[-1, -1].axis('off')\n",
    "plt.savefig('../static/mock/distibution_with_stability_days.pdf', format='pdf', dpi=600)\n",
    "plt.show()"
   ]
  },
  {
   "cell_type": "code",
   "execution_count": 118,
   "id": "c12ce63e",
   "metadata": {},
   "outputs": [
    {
     "data": {
      "image/png": "[encoded data removed]",
      "text/plain": [
       "<Figure size 2000x500 with 2 Axes>"
      ]
     },
     "metadata": {},
     "output_type": "display_data"
    }
   ],
   "source": [
    "fig, axes = plt.subplots(ncols=2, nrows=1)\n",
    "fig.set_size_inches(20, 5)\n",
    "\n",
    "for col, ax in zip(['t, °С', 't, min'], axes.flat):\n",
    "    sns.histplot(df_plot, x=col, hue='Stability of sols, days', multiple=\"stack\", palette='mako', binwidth=1, ax=ax).set(title=f'{col} distribution')\n",
    "\n",
    "plt.savefig('../static/mock/distibution_with_stability_days_bin3.pdf', format='pdf', dpi=600)\n",
    "plt.show()"
   ]
  },
  {
   "cell_type": "code",
   "execution_count": 122,
   "id": "a95baba0",
   "metadata": {},
   "outputs": [
    {
     "data": {
      "image/png": "[encoded data removed]",
      "text/plain": [
       "<Figure size 2000x500 with 2 Axes>"
      ]
     },
     "metadata": {},
     "output_type": "display_data"
    }
   ],
   "source": [
    "fig, axes = plt.subplots(ncols=2, nrows=1)\n",
    "fig.set_size_inches(20, 5)\n",
    "\n",
    "for col, ax in zip(['с(acid), mol/l', 'ultrasound '], axes.flat):\n",
    "    sns.histplot(df_plot, x=col, hue='Stability of sols, days', multiple=\"stack\", palette='mako', ax=ax, binwidth=0.05).set(title=f'{col} distribution')\n",
    "\n",
    "plt.savefig('../static/mock/distibution_with_stability_days_bin005.pdf', format='pdf', dpi=600)\n",
    "plt.show()"
   ]
  },
  {
   "cell_type": "code",
   "execution_count": 123,
   "id": "c2c10348",
   "metadata": {},
   "outputs": [
    {
     "data": {
      "image/png": "[encoded data removed]",
      "text/plain": [
       "<Figure size 640x480 with 1 Axes>"
      ]
     },
     "metadata": {},
     "output_type": "display_data"
    }
   ],
   "source": [
    "col = 'с(Ti4+), mol/l'\n",
    "sns.histplot(df_plot, x=col, hue='Stability of sols, days', multiple=\"stack\", palette='mako', binwidth=0.01).set(title=f'{col} distribution')\n",
    "plt.savefig('../static/mock/distibution_with_stability_days_bin001.pdf', format='pdf', dpi=600)"
   ]
  },
  {
   "cell_type": "code",
   "execution_count": 26,
   "id": "c6b7c915-9ad7-484f-b45f-6b439ffef9fd",
   "metadata": {
    "tags": []
   },
   "outputs": [
    {
     "data": {
      "text/plain": [
       "(71, 8)"
      ]
     },
     "execution_count": 26,
     "metadata": {},
     "output_type": "execute_result"
    }
   ],
   "source": [
    "from sklearn.preprocessing import StandardScaler\n",
    "sca = StandardScaler()\n",
    "sca.fit(df_clear)\n",
    "df_standardized = sca.transform(df_clear)\n",
    "df_standardized.shape"
   ]
  },
  {
   "cell_type": "code",
   "execution_count": 27,
   "id": "e0e2dc5c-2387-4cbf-add1-12d6d69166eb",
   "metadata": {
    "tags": []
   },
   "outputs": [
    {
     "name": "stdout",
     "output_type": "stream",
     "text": [
      "[0.44735179 0.16888894 0.13094936 0.10939437 0.07111657]\n",
      "0.9277010263101372\n"
     ]
    }
   ],
   "source": [
    "from sklearn.decomposition import PCA\n",
    "pca = PCA(5)\n",
    "X_pca5 = pca.fit_transform(df_standardized)\n",
    "print(pca.explained_variance_ratio_)\n",
    "print(pca.explained_variance_ratio_.sum())"
   ]
  },
  {
   "cell_type": "code",
   "execution_count": 28,
   "id": "e33f017f-06d1-444c-a08a-0ad1fad2f2c8",
   "metadata": {
    "tags": []
   },
   "outputs": [
    {
     "name": "stdout",
     "output_type": "stream",
     "text": [
      "d, nm 0.429\n",
      "t, min 0.427\n",
      "с(acid), mol/l 0.134\n",
      "Contents, % -0.132\n",
      "ultrasound  -0.246\n",
      "Stability of sols, days -0.359\n",
      "t, °С -0.406\n",
      "с(Ti4+), mol/l -0.494\n"
     ]
    }
   ],
   "source": [
    "components = dict(zip(df_clear.columns, pca.components_[0]))\n",
    "components = sorted(components.items(), key=lambda x: x[1], reverse=True)\n",
    "\n",
    "for c, w in components:\n",
    "    print(c, np.round(w, 3))"
   ]
  },
  {
   "cell_type": "code",
   "execution_count": 29,
   "id": "d59e4f35-7057-4500-9d59-616ab8395a02",
   "metadata": {
    "tags": []
   },
   "outputs": [
    {
     "name": "stdout",
     "output_type": "stream",
     "text": [
      "с(acid), mol/l 0.754\n",
      "Stability of sols, days 0.51\n",
      "с(Ti4+), mol/l -0.022\n",
      "t, min -0.068\n",
      "ultrasound  -0.151\n",
      "d, nm -0.158\n",
      "t, °С -0.239\n",
      "Contents, % -0.248\n"
     ]
    }
   ],
   "source": [
    "components = dict(zip(df_clear.columns, pca.components_[1]))\n",
    "components = sorted(components.items(), key=lambda x: x[1], reverse=True)\n",
    "\n",
    "for c, w in components:\n",
    "    print(c, np.round(w, 3))"
   ]
  },
  {
   "cell_type": "code",
   "execution_count": 30,
   "id": "ea5c7845-e071-441d-a96a-49eb1223c125",
   "metadata": {
    "tags": []
   },
   "outputs": [],
   "source": [
    "from openTSNE import TSNE\n",
    "\n",
    "embedding = TSNE(perplexity=23.33).fit(X_pca5)"
   ]
  },
  {
   "cell_type": "code",
   "execution_count": 31,
   "id": "e5f44d3c-df46-4089-abb8-ebcfd3d457e4",
   "metadata": {
    "tags": []
   },
   "outputs": [],
   "source": [
    "x_plot = df_clear.copy(deep=True)\n",
    "x_plot['tsne1'] = embedding[:, 0]\n",
    "x_plot['tsne2'] = embedding[:, 1]"
   ]
  },
  {
   "cell_type": "code",
   "execution_count": 32,
   "id": "4f6d9d9b-1a77-465b-b5e7-de6db2209cf5",
   "metadata": {
    "tags": []
   },
   "outputs": [
    {
     "data": {
      "text/html": [
       "<div>\n",
       "<style scoped>\n",
       "    .dataframe tbody tr th:only-of-type {\n",
       "        vertical-align: middle;\n",
       "    }\n",
       "\n",
       "    .dataframe tbody tr th {\n",
       "        vertical-align: top;\n",
       "    }\n",
       "\n",
       "    .dataframe thead th {\n",
       "        text-align: right;\n",
       "    }\n",
       "</style>\n",
       "<table border=\"1\" class=\"dataframe\">\n",
       "  <thead>\n",
       "    <tr style=\"text-align: right;\">\n",
       "      <th></th>\n",
       "      <th>t, °С</th>\n",
       "      <th>t, min</th>\n",
       "      <th>с(acid), mol/l</th>\n",
       "      <th>с(Ti4+), mol/l</th>\n",
       "      <th>ultrasound</th>\n",
       "      <th>d, nm</th>\n",
       "      <th>Contents, %</th>\n",
       "      <th>Stability of sols, days</th>\n",
       "      <th>tsne1</th>\n",
       "      <th>tsne2</th>\n",
       "    </tr>\n",
       "  </thead>\n",
       "  <tbody>\n",
       "    <tr>\n",
       "      <th>0</th>\n",
       "      <td>45</td>\n",
       "      <td>60</td>\n",
       "      <td>4</td>\n",
       "      <td>0.5</td>\n",
       "      <td>0</td>\n",
       "      <td>618.5</td>\n",
       "      <td>100.0</td>\n",
       "      <td>16</td>\n",
       "      <td>2.511658</td>\n",
       "      <td>1.024289</td>\n",
       "    </tr>\n",
       "    <tr>\n",
       "      <th>1</th>\n",
       "      <td>80</td>\n",
       "      <td>10</td>\n",
       "      <td>4</td>\n",
       "      <td>0.5</td>\n",
       "      <td>0</td>\n",
       "      <td>978.1</td>\n",
       "      <td>100.0</td>\n",
       "      <td>16</td>\n",
       "      <td>1.646075</td>\n",
       "      <td>1.038535</td>\n",
       "    </tr>\n",
       "    <tr>\n",
       "      <th>2</th>\n",
       "      <td>45</td>\n",
       "      <td>20</td>\n",
       "      <td>4</td>\n",
       "      <td>0.5</td>\n",
       "      <td>0</td>\n",
       "      <td>2.0</td>\n",
       "      <td>100.0</td>\n",
       "      <td>90</td>\n",
       "      <td>0.464501</td>\n",
       "      <td>2.219639</td>\n",
       "    </tr>\n",
       "    <tr>\n",
       "      <th>3</th>\n",
       "      <td>45</td>\n",
       "      <td>20</td>\n",
       "      <td>4</td>\n",
       "      <td>0.47</td>\n",
       "      <td>0</td>\n",
       "      <td>2.628</td>\n",
       "      <td>100.0</td>\n",
       "      <td>60</td>\n",
       "      <td>0.711773</td>\n",
       "      <td>2.073211</td>\n",
       "    </tr>\n",
       "    <tr>\n",
       "      <th>4</th>\n",
       "      <td>50</td>\n",
       "      <td>20</td>\n",
       "      <td>4</td>\n",
       "      <td>0.2</td>\n",
       "      <td>0</td>\n",
       "      <td>1712</td>\n",
       "      <td>100.0</td>\n",
       "      <td>16</td>\n",
       "      <td>2.795339</td>\n",
       "      <td>0.641444</td>\n",
       "    </tr>\n",
       "  </tbody>\n",
       "</table>\n",
       "</div>"
      ],
      "text/plain": [
       "  t, °С t, min с(acid), mol/l с(Ti4+), mol/l ultrasound   d, nm Contents, %  \\\n",
       "0    45     60              4            0.5           0  618.5       100.0   \n",
       "1    80     10              4            0.5           0  978.1       100.0   \n",
       "2    45     20              4            0.5           0    2.0       100.0   \n",
       "3    45     20              4           0.47           0  2.628       100.0   \n",
       "4    50     20              4            0.2           0   1712       100.0   \n",
       "\n",
       "  Stability of sols, days     tsne1     tsne2  \n",
       "0                      16  2.511658  1.024289  \n",
       "1                      16  1.646075  1.038535  \n",
       "2                      90  0.464501  2.219639  \n",
       "3                      60  0.711773  2.073211  \n",
       "4                      16  2.795339  0.641444  "
      ]
     },
     "execution_count": 32,
     "metadata": {},
     "output_type": "execute_result"
    }
   ],
   "source": [
    "x_plot.head()"
   ]
  },
  {
   "cell_type": "code",
   "execution_count": 42,
   "id": "19d3aa7b",
   "metadata": {},
   "outputs": [],
   "source": [
    "x_plot=x_plot.astype(\"float\")"
   ]
  },
  {
   "cell_type": "code",
   "execution_count": 120,
   "id": "93ab9141-0740-400d-8b28-e431811d72d4",
   "metadata": {
    "tags": []
   },
   "outputs": [
    {
     "data": {
      "application/vnd.plotly.v1+json": {
       "config": {
        "plotlyServerURL": "https://plot.ly"
       },
       "data": [
        {
         "customdata": [
          [
           45,
           60,
           4,
           0.5,
           0,
           618.5,
           100,
           16
          ],
          [
           80,
           10,
           4,
           0.5,
           0,
           978.1,
           100,
           16
          ],
          [
           45,
           20,
           4,
           0.5,
           0,
           2,
           100,
           90
          ],
          [
           45,
           20,
           4,
           0.47,
           0,
           2.628,
           100,
           60
          ],
          [
           50,
           20,
           4,
           0.2,
           0,
           1712,
           100,
           16
          ],
          [
           50,
           30,
           4,
           0.2,
           0,
           889.6,
           100,
           16
          ],
          [
           80,
           20,
           4,
           0.2,
           0,
           1.7,
           100,
           16
          ],
          [
           45,
           60,
           0.3,
           0.14,
           0,
           2000,
           100,
           2
          ],
          [
           60,
           60,
           0.3,
           0.14,
           0,
           2000,
           100,
           0.5
          ],
          [
           60,
           15,
           0.3,
           0.14,
           0,
           2000,
           100,
           0.5
          ],
          [
           45,
           130,
           0.1,
           0.28,
           0,
           8.3,
           99.5,
           9
          ],
          [
           45,
           130,
           0.1,
           0.28,
           0,
           21.3,
           0.5,
           9
          ],
          [
           45,
           83,
           0.26,
           0.14,
           0,
           2000,
           100,
           2
          ],
          [
           25,
           61,
           0.26,
           0.14,
           0,
           2000,
           100,
           2
          ],
          [
           45,
           56,
           0.26,
           0.14,
           0,
           2000,
           100,
           2
          ],
          [
           25,
           60,
           0.53,
           0.14,
           0,
           832.4,
           100,
           6
          ],
          [
           20,
           58,
           0.53,
           0.14,
           0,
           716.2,
           100,
           2
          ],
          [
           80,
           60,
           0.1,
           0.14,
           0,
           2000,
           100,
           0
          ],
          [
           45,
           130,
           0.1,
           0.28,
           0,
           5.4,
           100,
           2
          ],
          [
           50,
           30,
           4,
           0.3,
           0,
           2159,
           41.6,
           17
          ],
          [
           50,
           30,
           4,
           0.3,
           0,
           487.2,
           58.4,
           17
          ],
          [
           80,
           20,
           4,
           0.3,
           0,
           1021,
           100,
           90
          ],
          [
           45,
           60,
           0.3,
           0.35,
           0,
           2000,
           100,
           2
          ],
          [
           60,
           60,
           0.3,
           0.35,
           0,
           2000,
           100,
           2
          ],
          [
           60,
           30,
           0.3,
           0.35,
           0,
           2000,
           100,
           2
          ],
          [
           60,
           60,
           0.3,
           0.17,
           0,
           2000,
           100,
           0
          ],
          [
           80,
           20,
           0.3,
           0.17,
           0,
           2000,
           100,
           0
          ],
          [
           60,
           40,
           0.3,
           0.17,
           0,
           2000,
           100,
           0.5
          ],
          [
           45,
           70,
           0.8,
           0.17,
           0,
           2000,
           100,
           0.5
          ],
          [
           20,
           50,
           1.58,
           0.15,
           0,
           2000,
           100,
           2
          ],
          [
           20,
           80,
           1.58,
           0.15,
           0,
           2000,
           100,
           2
          ],
          [
           20,
           60,
           2.38,
           0.15,
           0,
           2000,
           100,
           2
          ],
          [
           25,
           60,
           2.38,
           0.15,
           0,
           2000,
           100,
           2
          ],
          [
           45,
           20,
           4,
           0.47,
           0,
           0.7,
           100,
           90
          ],
          [
           45,
           20,
           4,
           0.47,
           0,
           2.628,
           100,
           90
          ],
          [
           80,
           8,
           0.1,
           0.6,
           0,
           2.03,
           100,
           60
          ],
          [
           80,
           9,
           0.1,
           0.6,
           0,
           2.422,
           100,
           10
          ],
          [
           80,
           10,
           0.1,
           0.6,
           0,
           2.101,
           100,
           10
          ],
          [
           80,
           11,
           0.1,
           0.6,
           0,
           2.269,
           100,
           10
          ],
          [
           80,
           12,
           0.1,
           0.6,
           0,
           1.753,
           96.6,
           10
          ],
          [
           85,
           11,
           0.1,
           0.6,
           0,
           1.332,
           98.8,
           10
          ],
          [
           88,
           9,
           0.1,
           0.6,
           0,
           2.496,
           100,
           40
          ],
          [
           88,
           10,
           0.1,
           0.6,
           0,
           2.307,
           99.3,
           40
          ],
          [
           89,
           9,
           0.1,
           0.6,
           0,
           1.878,
           100,
           10
          ],
          [
           89,
           10,
           0.1,
           0.6,
           0,
           2.069,
           100,
           10
          ],
          [
           93,
           11,
           0.1,
           0.6,
           0,
           2.763,
           100,
           40
          ],
          [
           93,
           12,
           0.1,
           0.6,
           0,
           3.219,
           99.7,
           40
          ],
          [
           71,
           9,
           0.1,
           0.6,
           0,
           1.893,
           100,
           40
          ],
          [
           71,
           9,
           0.1,
           0.6,
           0.5,
           1.967,
           100,
           40
          ],
          [
           71,
           9,
           0.1,
           0.6,
           1,
           2.122,
           100,
           40
          ],
          [
           71,
           9,
           0.1,
           0.6,
           1.5,
           1.784,
           100,
           40
          ],
          [
           71,
           10,
           0.1,
           0.6,
           0,
           1.958,
           100,
           40
          ],
          [
           71,
           10,
           0.1,
           0.6,
           0.5,
           1.938,
           100,
           40
          ],
          [
           71,
           10,
           0.1,
           0.6,
           1,
           2.187,
           100,
           40
          ],
          [
           71,
           10,
           0.1,
           0.6,
           1.5,
           2.086,
           100,
           40
          ],
          [
           71,
           11,
           0.1,
           0.6,
           0,
           2.176,
           100,
           40
          ],
          [
           71,
           11,
           0.1,
           0.6,
           0.5,
           2.216,
           100,
           40
          ],
          [
           71,
           11,
           0.1,
           0.6,
           1,
           2.017,
           100,
           40
          ],
          [
           71,
           11,
           0.1,
           0.6,
           1.5,
           2.255,
           100,
           40
          ],
          [
           71,
           12,
           0.1,
           0.6,
           0,
           2.185,
           100,
           40
          ],
          [
           71,
           12,
           0.1,
           0.6,
           0.5,
           1.981,
           100,
           40
          ],
          [
           71,
           12,
           0.1,
           0.6,
           1,
           1.762,
           100,
           40
          ],
          [
           71,
           12,
           0.1,
           0.6,
           1.5,
           2.022,
           100,
           40
          ],
          [
           65,
           12,
           0.1,
           0.6,
           0,
           1.377,
           97.5,
           40
          ],
          [
           75,
           12,
           0.1,
           0.6,
           0,
           3.304,
           100,
           40
          ],
          [
           85,
           12,
           0.1,
           0.6,
           0,
           2000,
           100,
           0
          ],
          [
           70,
           12,
           0.1,
           0.62,
           0,
           2.9,
           99.5,
           40
          ],
          [
           70,
           12,
           0.1,
           0.59,
           0,
           1.901,
           100,
           40
          ],
          [
           70,
           12,
           0.1,
           0.55,
           0,
           2.841,
           100,
           40
          ],
          [
           70,
           12,
           0.1,
           0.52,
           0,
           2.162,
           97.8,
           40
          ],
          [
           80,
           8,
           0.1,
           0.6,
           0,
           2.197,
           100,
           60
          ]
         ],
         "hovertemplate": "tsne1=%{x}<br>tsne2=%{y}<br>t, °С=%{customdata[0]}<br>t, min=%{customdata[1]}<br>с(acid), mol/l=%{customdata[2]}<br>с(Ti4+), mol/l=%{customdata[3]}<br>ultrasound =%{customdata[4]}<br>d, nm=%{customdata[5]}<br>Contents, %=%{customdata[6]}<br>Stability of sols, days=%{marker.color}<extra></extra>",
         "legendgroup": "",
         "marker": {
          "color": [
           16,
           16,
           90,
           60,
           16,
           16,
           16,
           2,
           0.5,
           0.5,
           9,
           9,
           2,
           2,
           2,
           6,
           2,
           0,
           2,
           17,
           17,
           90,
           2,
           2,
           2,
           0,
           0,
           0.5,
           0.5,
           2,
           2,
           2,
           2,
           90,
           90,
           60,
           10,
           10,
           10,
           10,
           10,
           40,
           40,
           10,
           10,
           40,
           40,
           40,
           40,
           40,
           40,
           40,
           40,
           40,
           40,
           40,
           40,
           40,
           40,
           40,
           40,
           40,
           40,
           40,
           40,
           0,
           40,
           40,
           40,
           40,
           60
          ],
          "coloraxis": "coloraxis",
          "line": {
           "width": 0.5
          },
          "size": 8,
          "symbol": "circle"
         },
         "mode": "markers",
         "name": "",
         "orientation": "v",
         "showlegend": false,
         "type": "scatter",
         "x": [
          2.511658282017282,
          1.6460745196987088,
          0.46450061513662455,
          0.7117727639403251,
          2.795339494938839,
          2.643153508062467,
          1.8286843845587746,
          4.8859102180128025,
          4.302595682113779,
          3.501246840903659,
          6.63171990455256,
          4.29045360217762,
          5.312333183423243,
          5.265940412634394,
          4.606963761591861,
          5.7324871742719425,
          5.793876764484718,
          3.8588813398041233,
          6.614447446292721,
          3.788641280288805,
          3.6822955848684753,
          0.9159878440098141,
          4.77471996136305,
          4.2211906920984505,
          3.5234536826648397,
          4.404108680985195,
          3.0799628443743186,
          3.9018943934905383,
          4.8357730272306645,
          4.944832399017174,
          5.468559165556421,
          5.012099032976909,
          4.857711086442744,
          0.4776127839435524,
          0.4779115619065309,
          -4.093250231660841,
          -2.283150013719502,
          -2.2030086533290034,
          -2.154787346391847,
          -2.006018717731134,
          -2.3034810823915626,
          -3.451531573591646,
          -3.396411911691144,
          -2.4837105080421416,
          -2.4599383251636784,
          -3.445238970750267,
          -3.4167166469285486,
          -3.459297309280052,
          -4.48544470430459,
          -5.491448458495839,
          -6.037165532787032,
          -3.4490038618687198,
          -4.4791726188241885,
          -5.442615590322569,
          -6.031611995466527,
          -3.030816890192175,
          -4.473016668904354,
          -5.420556385183824,
          -6.029649052626553,
          -2.9428287085768687,
          -4.466759937486591,
          -5.413596336974397,
          -6.027787884002952,
          -3.0390550849717997,
          -3.1969579376885475,
          0.898034091823987,
          -3.469411053545739,
          -3.169127360629583,
          -2.727998139184,
          -2.5891027552248036,
          -4.093159763724854
         ],
         "xaxis": "x",
         "y": [
          1.024288730558624,
          1.0385354747997289,
          2.219638594984557,
          2.073210955078167,
          0.6414440305544176,
          0.8284793458762809,
          1.0822601276235813,
          -1.6013959056849731,
          -1.6824475310713083,
          -1.8981123791737249,
          -1.4347409888484346,
          2.223237985593649,
          -1.5824064659464785,
          -1.0936626139119543,
          -1.3886496681553477,
          -1.1716886053800801,
          -1.127492192359757,
          -2.251533928541193,
          -1.440967610717585,
          2.0929518448187263,
          2.075851294665396,
          1.858455513916726,
          -1.9397287891940322,
          -2.127530200791528,
          -2.036201898007067,
          -1.9475821831146065,
          -2.1243666637545564,
          -1.762159885117264,
          -1.24155286756448,
          -0.550031793455248,
          -0.5372328910863414,
          -0.27103296988963055,
          -0.32901892150917234,
          2.2159376729182565,
          2.215791101031781,
          -0.3105580080953812,
          -1.2005531971137466,
          -1.1178685930550287,
          -1.0655837609160739,
          -1.0847701550721571,
          -1.5556767091621875,
          -0.9967429257417431,
          -0.9800756922611814,
          -1.7542050211903224,
          -1.7412724315051658,
          -1.2740834619332395,
          -1.2549740157483926,
          -0.058505589093423294,
          1.390867037993649,
          2.2087480409524543,
          2.6855688926179506,
          -0.0013852861794378334,
          1.3909109238505808,
          2.260933294184472,
          2.6897293009627647,
          -0.037606106918638665,
          1.3909220830296374,
          2.282681358111748,
          2.6902086819568396,
          0.010151064756738085,
          1.3910676258795471,
          2.2860442613390224,
          2.6907375840334296,
          0.6141996100227948,
          -0.3172964336483973,
          -2.080697972783154,
          0.1925098673593808,
          0.3671548384890377,
          0.2845726707374375,
          0.26485294405346116,
          -0.31055043905839735
         ],
         "yaxis": "y"
        }
       ],
       "layout": {
        "coloraxis": {
         "colorbar": {
          "title": {
           "text": "Stability of sols, days"
          }
         },
         "colorscale": [
          [
           0,
           "#0d0887"
          ],
          [
           0.1111111111111111,
           "#46039f"
          ],
          [
           0.2222222222222222,
           "#7201a8"
          ],
          [
           0.3333333333333333,
           "#9c179e"
          ],
          [
           0.4444444444444444,
           "#bd3786"
          ],
          [
           0.5555555555555556,
           "#d8576b"
          ],
          [
           0.6666666666666666,
           "#ed7953"
          ],
          [
           0.7777777777777778,
           "#fb9f3a"
          ],
          [
           0.8888888888888888,
           "#fdca26"
          ],
          [
           1,
           "#f0f921"
          ]
         ]
        },
        "height": 600,
        "legend": {
         "tracegroupgap": 0
        },
        "margin": {
         "t": 60
        },
        "template": {
         "data": {
          "bar": [
           {
            "error_x": {
             "color": "#2a3f5f"
            },
            "error_y": {
             "color": "#2a3f5f"
            },
            "marker": {
             "line": {
              "color": "#E5ECF6",
              "width": 0.5
             },
             "pattern": {
              "fillmode": "overlay",
              "size": 10,
              "solidity": 0.2
             }
            },
            "type": "bar"
           }
          ],
          "barpolar": [
           {
            "marker": {
             "line": {
              "color": "#E5ECF6",
              "width": 0.5
             },
             "pattern": {
              "fillmode": "overlay",
              "size": 10,
              "solidity": 0.2
             }
            },
            "type": "barpolar"
           }
          ],
          "carpet": [
           {
            "aaxis": {
             "endlinecolor": "#2a3f5f",
             "gridcolor": "white",
             "linecolor": "white",
             "minorgridcolor": "white",
             "startlinecolor": "#2a3f5f"
            },
            "baxis": {
             "endlinecolor": "#2a3f5f",
             "gridcolor": "white",
             "linecolor": "white",
             "minorgridcolor": "white",
             "startlinecolor": "#2a3f5f"
            },
            "type": "carpet"
           }
          ],
          "choropleth": [
           {
            "colorbar": {
             "outlinewidth": 0,
             "ticks": ""
            },
            "type": "choropleth"
           }
          ],
          "contour": [
           {
            "colorbar": {
             "outlinewidth": 0,
             "ticks": ""
            },
            "colorscale": [
             [
              0,
              "#0d0887"
             ],
             [
              0.1111111111111111,
              "#46039f"
             ],
             [
              0.2222222222222222,
              "#7201a8"
             ],
             [
              0.3333333333333333,
              "#9c179e"
             ],
             [
              0.4444444444444444,
              "#bd3786"
             ],
             [
              0.5555555555555556,
              "#d8576b"
             ],
             [
              0.6666666666666666,
              "#ed7953"
             ],
             [
              0.7777777777777778,
              "#fb9f3a"
             ],
             [
              0.8888888888888888,
              "#fdca26"
             ],
             [
              1,
              "#f0f921"
             ]
            ],
            "type": "contour"
           }
          ],
          "contourcarpet": [
           {
            "colorbar": {
             "outlinewidth": 0,
             "ticks": ""
            },
            "type": "contourcarpet"
           }
          ],
          "heatmap": [
           {
            "colorbar": {
             "outlinewidth": 0,
             "ticks": ""
            },
            "colorscale": [
             [
              0,
              "#0d0887"
             ],
             [
              0.1111111111111111,
              "#46039f"
             ],
             [
              0.2222222222222222,
              "#7201a8"
             ],
             [
              0.3333333333333333,
              "#9c179e"
             ],
             [
              0.4444444444444444,
              "#bd3786"
             ],
             [
              0.5555555555555556,
              "#d8576b"
             ],
             [
              0.6666666666666666,
              "#ed7953"
             ],
             [
              0.7777777777777778,
              "#fb9f3a"
             ],
             [
              0.8888888888888888,
              "#fdca26"
             ],
             [
              1,
              "#f0f921"
             ]
            ],
            "type": "heatmap"
           }
          ],
          "heatmapgl": [
           {
            "colorbar": {
             "outlinewidth": 0,
             "ticks": ""
            },
            "colorscale": [
             [
              0,
              "#0d0887"
             ],
             [
              0.1111111111111111,
              "#46039f"
             ],
             [
              0.2222222222222222,
              "#7201a8"
             ],
             [
              0.3333333333333333,
              "#9c179e"
             ],
             [
              0.4444444444444444,
              "#bd3786"
             ],
             [
              0.5555555555555556,
              "#d8576b"
             ],
             [
              0.6666666666666666,
              "#ed7953"
             ],
             [
              0.7777777777777778,
              "#fb9f3a"
             ],
             [
              0.8888888888888888,
              "#fdca26"
             ],
             [
              1,
              "#f0f921"
             ]
            ],
            "type": "heatmapgl"
           }
          ],
          "histogram": [
           {
            "marker": {
             "pattern": {
              "fillmode": "overlay",
              "size": 10,
              "solidity": 0.2
             }
            },
            "type": "histogram"
           }
          ],
          "histogram2d": [
           {
            "colorbar": {
             "outlinewidth": 0,
             "ticks": ""
            },
            "colorscale": [
             [
              0,
              "#0d0887"
             ],
             [
              0.1111111111111111,
              "#46039f"
             ],
             [
              0.2222222222222222,
              "#7201a8"
             ],
             [
              0.3333333333333333,
              "#9c179e"
             ],
             [
              0.4444444444444444,
              "#bd3786"
             ],
             [
              0.5555555555555556,
              "#d8576b"
             ],
             [
              0.6666666666666666,
              "#ed7953"
             ],
             [
              0.7777777777777778,
              "#fb9f3a"
             ],
             [
              0.8888888888888888,
              "#fdca26"
             ],
             [
              1,
              "#f0f921"
             ]
            ],
            "type": "histogram2d"
           }
          ],
          "histogram2dcontour": [
           {
            "colorbar": {
             "outlinewidth": 0,
             "ticks": ""
            },
            "colorscale": [
             [
              0,
              "#0d0887"
             ],
             [
              0.1111111111111111,
              "#46039f"
             ],
             [
              0.2222222222222222,
              "#7201a8"
             ],
             [
              0.3333333333333333,
              "#9c179e"
             ],
             [
              0.4444444444444444,
              "#bd3786"
             ],
             [
              0.5555555555555556,
              "#d8576b"
             ],
             [
              0.6666666666666666,
              "#ed7953"
             ],
             [
              0.7777777777777778,
              "#fb9f3a"
             ],
             [
              0.8888888888888888,
              "#fdca26"
             ],
             [
              1,
              "#f0f921"
             ]
            ],
            "type": "histogram2dcontour"
           }
          ],
          "mesh3d": [
           {
            "colorbar": {
             "outlinewidth": 0,
             "ticks": ""
            },
            "type": "mesh3d"
           }
          ],
          "parcoords": [
           {
            "line": {
             "colorbar": {
              "outlinewidth": 0,
              "ticks": ""
             }
            },
            "type": "parcoords"
           }
          ],
          "pie": [
           {
            "automargin": true,
            "type": "pie"
           }
          ],
          "scatter": [
           {
            "fillpattern": {
             "fillmode": "overlay",
             "size": 10,
             "solidity": 0.2
            },
            "type": "scatter"
           }
          ],
          "scatter3d": [
           {
            "line": {
             "colorbar": {
              "outlinewidth": 0,
              "ticks": ""
             }
            },
            "marker": {
             "colorbar": {
              "outlinewidth": 0,
              "ticks": ""
             }
            },
            "type": "scatter3d"
           }
          ],
          "scattercarpet": [
           {
            "marker": {
             "colorbar": {
              "outlinewidth": 0,
              "ticks": ""
             }
            },
            "type": "scattercarpet"
           }
          ],
          "scattergeo": [
           {
            "marker": {
             "colorbar": {
              "outlinewidth": 0,
              "ticks": ""
             }
            },
            "type": "scattergeo"
           }
          ],
          "scattergl": [
           {
            "marker": {
             "colorbar": {
              "outlinewidth": 0,
              "ticks": ""
             }
            },
            "type": "scattergl"
           }
          ],
          "scattermapbox": [
           {
            "marker": {
             "colorbar": {
              "outlinewidth": 0,
              "ticks": ""
             }
            },
            "type": "scattermapbox"
           }
          ],
          "scatterpolar": [
           {
            "marker": {
             "colorbar": {
              "outlinewidth": 0,
              "ticks": ""
             }
            },
            "type": "scatterpolar"
           }
          ],
          "scatterpolargl": [
           {
            "marker": {
             "colorbar": {
              "outlinewidth": 0,
              "ticks": ""
             }
            },
            "type": "scatterpolargl"
           }
          ],
          "scatterternary": [
           {
            "marker": {
             "colorbar": {
              "outlinewidth": 0,
              "ticks": ""
             }
            },
            "type": "scatterternary"
           }
          ],
          "surface": [
           {
            "colorbar": {
             "outlinewidth": 0,
             "ticks": ""
            },
            "colorscale": [
             [
              0,
              "#0d0887"
             ],
             [
              0.1111111111111111,
              "#46039f"
             ],
             [
              0.2222222222222222,
              "#7201a8"
             ],
             [
              0.3333333333333333,
              "#9c179e"
             ],
             [
              0.4444444444444444,
              "#bd3786"
             ],
             [
              0.5555555555555556,
              "#d8576b"
             ],
             [
              0.6666666666666666,
              "#ed7953"
             ],
             [
              0.7777777777777778,
              "#fb9f3a"
             ],
             [
              0.8888888888888888,
              "#fdca26"
             ],
             [
              1,
              "#f0f921"
             ]
            ],
            "type": "surface"
           }
          ],
          "table": [
           {
            "cells": {
             "fill": {
              "color": "#EBF0F8"
             },
             "line": {
              "color": "white"
             }
            },
            "header": {
             "fill": {
              "color": "#C8D4E3"
             },
             "line": {
              "color": "white"
             }
            },
            "type": "table"
           }
          ]
         },
         "layout": {
          "annotationdefaults": {
           "arrowcolor": "#2a3f5f",
           "arrowhead": 0,
           "arrowwidth": 1
          },
          "autotypenumbers": "strict",
          "coloraxis": {
           "colorbar": {
            "outlinewidth": 0,
            "ticks": ""
           }
          },
          "colorscale": {
           "diverging": [
            [
             0,
             "#8e0152"
            ],
            [
             0.1,
             "#c51b7d"
            ],
            [
             0.2,
             "#de77ae"
            ],
            [
             0.3,
             "#f1b6da"
            ],
            [
             0.4,
             "#fde0ef"
            ],
            [
             0.5,
             "#f7f7f7"
            ],
            [
             0.6,
             "#e6f5d0"
            ],
            [
             0.7,
             "#b8e186"
            ],
            [
             0.8,
             "#7fbc41"
            ],
            [
             0.9,
             "#4d9221"
            ],
            [
             1,
             "#276419"
            ]
           ],
           "sequential": [
            [
             0,
             "#0d0887"
            ],
            [
             0.1111111111111111,
             "#46039f"
            ],
            [
             0.2222222222222222,
             "#7201a8"
            ],
            [
             0.3333333333333333,
             "#9c179e"
            ],
            [
             0.4444444444444444,
             "#bd3786"
            ],
            [
             0.5555555555555556,
             "#d8576b"
            ],
            [
             0.6666666666666666,
             "#ed7953"
            ],
            [
             0.7777777777777778,
             "#fb9f3a"
            ],
            [
             0.8888888888888888,
             "#fdca26"
            ],
            [
             1,
             "#f0f921"
            ]
           ],
           "sequentialminus": [
            [
             0,
             "#0d0887"
            ],
            [
             0.1111111111111111,
             "#46039f"
            ],
            [
             0.2222222222222222,
             "#7201a8"
            ],
            [
             0.3333333333333333,
             "#9c179e"
            ],
            [
             0.4444444444444444,
             "#bd3786"
            ],
            [
             0.5555555555555556,
             "#d8576b"
            ],
            [
             0.6666666666666666,
             "#ed7953"
            ],
            [
             0.7777777777777778,
             "#fb9f3a"
            ],
            [
             0.8888888888888888,
             "#fdca26"
            ],
            [
             1,
             "#f0f921"
            ]
           ]
          },
          "colorway": [
           "#636efa",
           "#EF553B",
           "#00cc96",
           "#ab63fa",
           "#FFA15A",
           "#19d3f3",
           "#FF6692",
           "#B6E880",
           "#FF97FF",
           "#FECB52"
          ],
          "font": {
           "color": "#2a3f5f"
          },
          "geo": {
           "bgcolor": "white",
           "lakecolor": "white",
           "landcolor": "#E5ECF6",
           "showlakes": true,
           "showland": true,
           "subunitcolor": "white"
          },
          "hoverlabel": {
           "align": "left"
          },
          "hovermode": "closest",
          "mapbox": {
           "style": "light"
          },
          "paper_bgcolor": "white",
          "plot_bgcolor": "#E5ECF6",
          "polar": {
           "angularaxis": {
            "gridcolor": "white",
            "linecolor": "white",
            "ticks": ""
           },
           "bgcolor": "#E5ECF6",
           "radialaxis": {
            "gridcolor": "white",
            "linecolor": "white",
            "ticks": ""
           }
          },
          "scene": {
           "xaxis": {
            "backgroundcolor": "#E5ECF6",
            "gridcolor": "white",
            "gridwidth": 2,
            "linecolor": "white",
            "showbackground": true,
            "ticks": "",
            "zerolinecolor": "white"
           },
           "yaxis": {
            "backgroundcolor": "#E5ECF6",
            "gridcolor": "white",
            "gridwidth": 2,
            "linecolor": "white",
            "showbackground": true,
            "ticks": "",
            "zerolinecolor": "white"
           },
           "zaxis": {
            "backgroundcolor": "#E5ECF6",
            "gridcolor": "white",
            "gridwidth": 2,
            "linecolor": "white",
            "showbackground": true,
            "ticks": "",
            "zerolinecolor": "white"
           }
          },
          "shapedefaults": {
           "line": {
            "color": "#2a3f5f"
           }
          },
          "ternary": {
           "aaxis": {
            "gridcolor": "white",
            "linecolor": "white",
            "ticks": ""
           },
           "baxis": {
            "gridcolor": "white",
            "linecolor": "white",
            "ticks": ""
           },
           "bgcolor": "#E5ECF6",
           "caxis": {
            "gridcolor": "white",
            "linecolor": "white",
            "ticks": ""
           }
          },
          "title": {
           "x": 0.05
          },
          "xaxis": {
           "automargin": true,
           "gridcolor": "white",
           "linecolor": "white",
           "ticks": "",
           "title": {
            "standoff": 15
           },
           "zerolinecolor": "white",
           "zerolinewidth": 2
          },
          "yaxis": {
           "automargin": true,
           "gridcolor": "white",
           "linecolor": "white",
           "ticks": "",
           "title": {
            "standoff": 15
           },
           "zerolinecolor": "white",
           "zerolinewidth": 2
          }
         }
        },
        "title": {
         "text": "TSNE plot of sols stability"
        },
        "width": 900,
        "xaxis": {
         "anchor": "y",
         "autorange": true,
         "domain": [
          0,
          1
         ],
         "range": [
          -6.866340136210416,
          7.460894507975945
         ],
         "title": {
          "text": "x"
         },
         "type": "linear"
        },
        "yaxis": {
         "anchor": "x",
         "autorange": true,
         "domain": [
          0,
          1
         ],
         "range": [
          -2.5940675977295333,
          3.03327125322177
         ],
         "title": {
          "text": "y"
         },
         "type": "linear"
        }
       }
      },
      "image/png": "[encoded data removed]"
     },
     "metadata": {},
     "output_type": "display_data"
    }
   ],
   "source": [
    "import plotly.express as px\n",
    "\n",
    "fig = px.scatter(x_plot, x='tsne1', y='tsne2', color='Stability of sols, days', hover_data=df_clear.columns, width=900, height=600)\n",
    "\n",
    "# # Customize aspect\n",
    "fig.update_traces(marker=dict(size=8, line=dict(width=0.5)), selector=dict(mode='markers')) \n",
    "fig.update_layout(title='TSNE plot of sols stability', xaxis_title='x', yaxis_title='y')\n",
    "# fig.update_yaxes(scaleanchor = \"x\", scaleratio = 1)\n",
    "fig.write_html(\"TSNE_plot_stability_days.html\")\n",
    "fig.show()"
   ]
  },
  {
   "cell_type": "code",
   "execution_count": 121,
   "id": "ff95a593-5fe5-45a1-a1ac-f521c90ddd2d",
   "metadata": {},
   "outputs": [
    {
     "data": {
      "application/vnd.plotly.v1+json": {
       "config": {
        "plotlyServerURL": "https://plot.ly"
       },
       "data": [
        {
         "customdata": [
          [
           45,
           60,
           4,
           0.5,
           0,
           618.5,
           100,
           16
          ],
          [
           80,
           10,
           4,
           0.5,
           0,
           978.1,
           100,
           16
          ],
          [
           45,
           20,
           4,
           0.5,
           0,
           2,
           100,
           90
          ],
          [
           45,
           20,
           4,
           0.47,
           0,
           2.628,
           100,
           60
          ],
          [
           50,
           20,
           4,
           0.2,
           0,
           1712,
           100,
           16
          ],
          [
           50,
           30,
           4,
           0.2,
           0,
           889.6,
           100,
           16
          ],
          [
           80,
           20,
           4,
           0.2,
           0,
           1.7,
           100,
           16
          ],
          [
           45,
           60,
           0.3,
           0.14,
           0,
           2000,
           100,
           2
          ],
          [
           60,
           60,
           0.3,
           0.14,
           0,
           2000,
           100,
           0.5
          ],
          [
           60,
           15,
           0.3,
           0.14,
           0,
           2000,
           100,
           0.5
          ],
          [
           45,
           130,
           0.1,
           0.28,
           0,
           8.3,
           99.5,
           9
          ],
          [
           45,
           130,
           0.1,
           0.28,
           0,
           21.3,
           0.5,
           9
          ],
          [
           45,
           83,
           0.26,
           0.14,
           0,
           2000,
           100,
           2
          ],
          [
           25,
           61,
           0.26,
           0.14,
           0,
           2000,
           100,
           2
          ],
          [
           45,
           56,
           0.26,
           0.14,
           0,
           2000,
           100,
           2
          ],
          [
           25,
           60,
           0.53,
           0.14,
           0,
           832.4,
           100,
           6
          ],
          [
           20,
           58,
           0.53,
           0.14,
           0,
           716.2,
           100,
           2
          ],
          [
           80,
           60,
           0.1,
           0.14,
           0,
           2000,
           100,
           0
          ],
          [
           45,
           130,
           0.1,
           0.28,
           0,
           5.4,
           100,
           2
          ],
          [
           50,
           30,
           4,
           0.3,
           0,
           2159,
           41.6,
           17
          ],
          [
           50,
           30,
           4,
           0.3,
           0,
           487.2,
           58.4,
           17
          ],
          [
           80,
           20,
           4,
           0.3,
           0,
           1021,
           100,
           90
          ],
          [
           45,
           60,
           0.3,
           0.35,
           0,
           2000,
           100,
           2
          ],
          [
           60,
           60,
           0.3,
           0.35,
           0,
           2000,
           100,
           2
          ],
          [
           60,
           30,
           0.3,
           0.35,
           0,
           2000,
           100,
           2
          ],
          [
           60,
           60,
           0.3,
           0.17,
           0,
           2000,
           100,
           0
          ],
          [
           80,
           20,
           0.3,
           0.17,
           0,
           2000,
           100,
           0
          ],
          [
           60,
           40,
           0.3,
           0.17,
           0,
           2000,
           100,
           0.5
          ],
          [
           45,
           70,
           0.8,
           0.17,
           0,
           2000,
           100,
           0.5
          ],
          [
           20,
           50,
           1.58,
           0.15,
           0,
           2000,
           100,
           2
          ],
          [
           20,
           80,
           1.58,
           0.15,
           0,
           2000,
           100,
           2
          ],
          [
           20,
           60,
           2.38,
           0.15,
           0,
           2000,
           100,
           2
          ],
          [
           25,
           60,
           2.38,
           0.15,
           0,
           2000,
           100,
           2
          ],
          [
           45,
           20,
           4,
           0.47,
           0,
           0.7,
           100,
           90
          ],
          [
           45,
           20,
           4,
           0.47,
           0,
           2.628,
           100,
           90
          ],
          [
           80,
           8,
           0.1,
           0.6,
           0,
           2.03,
           100,
           60
          ],
          [
           80,
           9,
           0.1,
           0.6,
           0,
           2.422,
           100,
           10
          ],
          [
           80,
           10,
           0.1,
           0.6,
           0,
           2.101,
           100,
           10
          ],
          [
           80,
           11,
           0.1,
           0.6,
           0,
           2.269,
           100,
           10
          ],
          [
           80,
           12,
           0.1,
           0.6,
           0,
           1.753,
           96.6,
           10
          ],
          [
           85,
           11,
           0.1,
           0.6,
           0,
           1.332,
           98.8,
           10
          ],
          [
           88,
           9,
           0.1,
           0.6,
           0,
           2.496,
           100,
           40
          ],
          [
           88,
           10,
           0.1,
           0.6,
           0,
           2.307,
           99.3,
           40
          ],
          [
           89,
           9,
           0.1,
           0.6,
           0,
           1.878,
           100,
           10
          ],
          [
           89,
           10,
           0.1,
           0.6,
           0,
           2.069,
           100,
           10
          ],
          [
           93,
           11,
           0.1,
           0.6,
           0,
           2.763,
           100,
           40
          ],
          [
           93,
           12,
           0.1,
           0.6,
           0,
           3.219,
           99.7,
           40
          ],
          [
           71,
           9,
           0.1,
           0.6,
           0,
           1.893,
           100,
           40
          ],
          [
           71,
           9,
           0.1,
           0.6,
           0.5,
           1.967,
           100,
           40
          ],
          [
           71,
           9,
           0.1,
           0.6,
           1,
           2.122,
           100,
           40
          ],
          [
           71,
           9,
           0.1,
           0.6,
           1.5,
           1.784,
           100,
           40
          ],
          [
           71,
           10,
           0.1,
           0.6,
           0,
           1.958,
           100,
           40
          ],
          [
           71,
           10,
           0.1,
           0.6,
           0.5,
           1.938,
           100,
           40
          ],
          [
           71,
           10,
           0.1,
           0.6,
           1,
           2.187,
           100,
           40
          ],
          [
           71,
           10,
           0.1,
           0.6,
           1.5,
           2.086,
           100,
           40
          ],
          [
           71,
           11,
           0.1,
           0.6,
           0,
           2.176,
           100,
           40
          ],
          [
           71,
           11,
           0.1,
           0.6,
           0.5,
           2.216,
           100,
           40
          ],
          [
           71,
           11,
           0.1,
           0.6,
           1,
           2.017,
           100,
           40
          ],
          [
           71,
           11,
           0.1,
           0.6,
           1.5,
           2.255,
           100,
           40
          ],
          [
           71,
           12,
           0.1,
           0.6,
           0,
           2.185,
           100,
           40
          ],
          [
           71,
           12,
           0.1,
           0.6,
           0.5,
           1.981,
           100,
           40
          ],
          [
           71,
           12,
           0.1,
           0.6,
           1,
           1.762,
           100,
           40
          ],
          [
           71,
           12,
           0.1,
           0.6,
           1.5,
           2.022,
           100,
           40
          ],
          [
           65,
           12,
           0.1,
           0.6,
           0,
           1.377,
           97.5,
           40
          ],
          [
           75,
           12,
           0.1,
           0.6,
           0,
           3.304,
           100,
           40
          ],
          [
           85,
           12,
           0.1,
           0.6,
           0,
           2000,
           100,
           0
          ],
          [
           70,
           12,
           0.1,
           0.62,
           0,
           2.9,
           99.5,
           40
          ],
          [
           70,
           12,
           0.1,
           0.59,
           0,
           1.901,
           100,
           40
          ],
          [
           70,
           12,
           0.1,
           0.55,
           0,
           2.841,
           100,
           40
          ],
          [
           70,
           12,
           0.1,
           0.52,
           0,
           2.162,
           97.8,
           40
          ],
          [
           80,
           8,
           0.1,
           0.6,
           0,
           2.197,
           100,
           60
          ]
         ],
         "hovertemplate": "tsne1=%{x}<br>tsne2=%{y}<br>t, °С=%{customdata[0]}<br>t, min=%{customdata[1]}<br>с(acid), mol/l=%{customdata[2]}<br>с(Ti4+), mol/l=%{customdata[3]}<br>ultrasound =%{customdata[4]}<br>d, nm=%{marker.color}<br>Contents, %=%{customdata[6]}<br>Stability of sols, days=%{customdata[7]}<extra></extra>",
         "legendgroup": "",
         "marker": {
          "color": [
           618.5,
           978.1,
           2,
           2.628,
           1712,
           889.6,
           1.7,
           2000,
           2000,
           2000,
           8.3,
           21.3,
           2000,
           2000,
           2000,
           832.4,
           716.2,
           2000,
           5.4,
           2159,
           487.2,
           1021,
           2000,
           2000,
           2000,
           2000,
           2000,
           2000,
           2000,
           2000,
           2000,
           2000,
           2000,
           0.7,
           2.628,
           2.03,
           2.422,
           2.101,
           2.269,
           1.753,
           1.332,
           2.496,
           2.307,
           1.878,
           2.069,
           2.763,
           3.219,
           1.893,
           1.967,
           2.122,
           1.784,
           1.958,
           1.938,
           2.187,
           2.086,
           2.176,
           2.216,
           2.017,
           2.255,
           2.185,
           1.981,
           1.762,
           2.022,
           1.377,
           3.304,
           2000,
           2.9,
           1.901,
           2.841,
           2.162,
           2.197
          ],
          "coloraxis": "coloraxis",
          "line": {
           "width": 0.5
          },
          "size": 8,
          "symbol": "circle"
         },
         "mode": "markers",
         "name": "",
         "orientation": "v",
         "showlegend": false,
         "type": "scatter",
         "x": [
          2.511658282017282,
          1.6460745196987088,
          0.46450061513662455,
          0.7117727639403251,
          2.795339494938839,
          2.643153508062467,
          1.8286843845587746,
          4.8859102180128025,
          4.302595682113779,
          3.501246840903659,
          6.63171990455256,
          4.29045360217762,
          5.312333183423243,
          5.265940412634394,
          4.606963761591861,
          5.7324871742719425,
          5.793876764484718,
          3.8588813398041233,
          6.614447446292721,
          3.788641280288805,
          3.6822955848684753,
          0.9159878440098141,
          4.77471996136305,
          4.2211906920984505,
          3.5234536826648397,
          4.404108680985195,
          3.0799628443743186,
          3.9018943934905383,
          4.8357730272306645,
          4.944832399017174,
          5.468559165556421,
          5.012099032976909,
          4.857711086442744,
          0.4776127839435524,
          0.4779115619065309,
          -4.093250231660841,
          -2.283150013719502,
          -2.2030086533290034,
          -2.154787346391847,
          -2.006018717731134,
          -2.3034810823915626,
          -3.451531573591646,
          -3.396411911691144,
          -2.4837105080421416,
          -2.4599383251636784,
          -3.445238970750267,
          -3.4167166469285486,
          -3.459297309280052,
          -4.48544470430459,
          -5.491448458495839,
          -6.037165532787032,
          -3.4490038618687198,
          -4.4791726188241885,
          -5.442615590322569,
          -6.031611995466527,
          -3.030816890192175,
          -4.473016668904354,
          -5.420556385183824,
          -6.029649052626553,
          -2.9428287085768687,
          -4.466759937486591,
          -5.413596336974397,
          -6.027787884002952,
          -3.0390550849717997,
          -3.1969579376885475,
          0.898034091823987,
          -3.469411053545739,
          -3.169127360629583,
          -2.727998139184,
          -2.5891027552248036,
          -4.093159763724854
         ],
         "xaxis": "x",
         "y": [
          1.024288730558624,
          1.0385354747997289,
          2.219638594984557,
          2.073210955078167,
          0.6414440305544176,
          0.8284793458762809,
          1.0822601276235813,
          -1.6013959056849731,
          -1.6824475310713083,
          -1.8981123791737249,
          -1.4347409888484346,
          2.223237985593649,
          -1.5824064659464785,
          -1.0936626139119543,
          -1.3886496681553477,
          -1.1716886053800801,
          -1.127492192359757,
          -2.251533928541193,
          -1.440967610717585,
          2.0929518448187263,
          2.075851294665396,
          1.858455513916726,
          -1.9397287891940322,
          -2.127530200791528,
          -2.036201898007067,
          -1.9475821831146065,
          -2.1243666637545564,
          -1.762159885117264,
          -1.24155286756448,
          -0.550031793455248,
          -0.5372328910863414,
          -0.27103296988963055,
          -0.32901892150917234,
          2.2159376729182565,
          2.215791101031781,
          -0.3105580080953812,
          -1.2005531971137466,
          -1.1178685930550287,
          -1.0655837609160739,
          -1.0847701550721571,
          -1.5556767091621875,
          -0.9967429257417431,
          -0.9800756922611814,
          -1.7542050211903224,
          -1.7412724315051658,
          -1.2740834619332395,
          -1.2549740157483926,
          -0.058505589093423294,
          1.390867037993649,
          2.2087480409524543,
          2.6855688926179506,
          -0.0013852861794378334,
          1.3909109238505808,
          2.260933294184472,
          2.6897293009627647,
          -0.037606106918638665,
          1.3909220830296374,
          2.282681358111748,
          2.6902086819568396,
          0.010151064756738085,
          1.3910676258795471,
          2.2860442613390224,
          2.6907375840334296,
          0.6141996100227948,
          -0.3172964336483973,
          -2.080697972783154,
          0.1925098673593808,
          0.3671548384890377,
          0.2845726707374375,
          0.26485294405346116,
          -0.31055043905839735
         ],
         "yaxis": "y"
        }
       ],
       "layout": {
        "coloraxis": {
         "colorbar": {
          "title": {
           "text": "d, nm"
          }
         },
         "colorscale": [
          [
           0,
           "#0d0887"
          ],
          [
           0.1111111111111111,
           "#46039f"
          ],
          [
           0.2222222222222222,
           "#7201a8"
          ],
          [
           0.3333333333333333,
           "#9c179e"
          ],
          [
           0.4444444444444444,
           "#bd3786"
          ],
          [
           0.5555555555555556,
           "#d8576b"
          ],
          [
           0.6666666666666666,
           "#ed7953"
          ],
          [
           0.7777777777777778,
           "#fb9f3a"
          ],
          [
           0.8888888888888888,
           "#fdca26"
          ],
          [
           1,
           "#f0f921"
          ]
         ]
        },
        "height": 600,
        "legend": {
         "tracegroupgap": 0
        },
        "margin": {
         "t": 60
        },
        "template": {
         "data": {
          "bar": [
           {
            "error_x": {
             "color": "#2a3f5f"
            },
            "error_y": {
             "color": "#2a3f5f"
            },
            "marker": {
             "line": {
              "color": "#E5ECF6",
              "width": 0.5
             },
             "pattern": {
              "fillmode": "overlay",
              "size": 10,
              "solidity": 0.2
             }
            },
            "type": "bar"
           }
          ],
          "barpolar": [
           {
            "marker": {
             "line": {
              "color": "#E5ECF6",
              "width": 0.5
             },
             "pattern": {
              "fillmode": "overlay",
              "size": 10,
              "solidity": 0.2
             }
            },
            "type": "barpolar"
           }
          ],
          "carpet": [
           {
            "aaxis": {
             "endlinecolor": "#2a3f5f",
             "gridcolor": "white",
             "linecolor": "white",
             "minorgridcolor": "white",
             "startlinecolor": "#2a3f5f"
            },
            "baxis": {
             "endlinecolor": "#2a3f5f",
             "gridcolor": "white",
             "linecolor": "white",
             "minorgridcolor": "white",
             "startlinecolor": "#2a3f5f"
            },
            "type": "carpet"
           }
          ],
          "choropleth": [
           {
            "colorbar": {
             "outlinewidth": 0,
             "ticks": ""
            },
            "type": "choropleth"
           }
          ],
          "contour": [
           {
            "colorbar": {
             "outlinewidth": 0,
             "ticks": ""
            },
            "colorscale": [
             [
              0,
              "#0d0887"
             ],
             [
              0.1111111111111111,
              "#46039f"
             ],
             [
              0.2222222222222222,
              "#7201a8"
             ],
             [
              0.3333333333333333,
              "#9c179e"
             ],
             [
              0.4444444444444444,
              "#bd3786"
             ],
             [
              0.5555555555555556,
              "#d8576b"
             ],
             [
              0.6666666666666666,
              "#ed7953"
             ],
             [
              0.7777777777777778,
              "#fb9f3a"
             ],
             [
              0.8888888888888888,
              "#fdca26"
             ],
             [
              1,
              "#f0f921"
             ]
            ],
            "type": "contour"
           }
          ],
          "contourcarpet": [
           {
            "colorbar": {
             "outlinewidth": 0,
             "ticks": ""
            },
            "type": "contourcarpet"
           }
          ],
          "heatmap": [
           {
            "colorbar": {
             "outlinewidth": 0,
             "ticks": ""
            },
            "colorscale": [
             [
              0,
              "#0d0887"
             ],
             [
              0.1111111111111111,
              "#46039f"
             ],
             [
              0.2222222222222222,
              "#7201a8"
             ],
             [
              0.3333333333333333,
              "#9c179e"
             ],
             [
              0.4444444444444444,
              "#bd3786"
             ],
             [
              0.5555555555555556,
              "#d8576b"
             ],
             [
              0.6666666666666666,
              "#ed7953"
             ],
             [
              0.7777777777777778,
              "#fb9f3a"
             ],
             [
              0.8888888888888888,
              "#fdca26"
             ],
             [
              1,
              "#f0f921"
             ]
            ],
            "type": "heatmap"
           }
          ],
          "heatmapgl": [
           {
            "colorbar": {
             "outlinewidth": 0,
             "ticks": ""
            },
            "colorscale": [
             [
              0,
              "#0d0887"
             ],
             [
              0.1111111111111111,
              "#46039f"
             ],
             [
              0.2222222222222222,
              "#7201a8"
             ],
             [
              0.3333333333333333,
              "#9c179e"
             ],
             [
              0.4444444444444444,
              "#bd3786"
             ],
             [
              0.5555555555555556,
              "#d8576b"
             ],
             [
              0.6666666666666666,
              "#ed7953"
             ],
             [
              0.7777777777777778,
              "#fb9f3a"
             ],
             [
              0.8888888888888888,
              "#fdca26"
             ],
             [
              1,
              "#f0f921"
             ]
            ],
            "type": "heatmapgl"
           }
          ],
          "histogram": [
           {
            "marker": {
             "pattern": {
              "fillmode": "overlay",
              "size": 10,
              "solidity": 0.2
             }
            },
            "type": "histogram"
           }
          ],
          "histogram2d": [
           {
            "colorbar": {
             "outlinewidth": 0,
             "ticks": ""
            },
            "colorscale": [
             [
              0,
              "#0d0887"
             ],
             [
              0.1111111111111111,
              "#46039f"
             ],
             [
              0.2222222222222222,
              "#7201a8"
             ],
             [
              0.3333333333333333,
              "#9c179e"
             ],
             [
              0.4444444444444444,
              "#bd3786"
             ],
             [
              0.5555555555555556,
              "#d8576b"
             ],
             [
              0.6666666666666666,
              "#ed7953"
             ],
             [
              0.7777777777777778,
              "#fb9f3a"
             ],
             [
              0.8888888888888888,
              "#fdca26"
             ],
             [
              1,
              "#f0f921"
             ]
            ],
            "type": "histogram2d"
           }
          ],
          "histogram2dcontour": [
           {
            "colorbar": {
             "outlinewidth": 0,
             "ticks": ""
            },
            "colorscale": [
             [
              0,
              "#0d0887"
             ],
             [
              0.1111111111111111,
              "#46039f"
             ],
             [
              0.2222222222222222,
              "#7201a8"
             ],
             [
              0.3333333333333333,
              "#9c179e"
             ],
             [
              0.4444444444444444,
              "#bd3786"
             ],
             [
              0.5555555555555556,
              "#d8576b"
             ],
             [
              0.6666666666666666,
              "#ed7953"
             ],
             [
              0.7777777777777778,
              "#fb9f3a"
             ],
             [
              0.8888888888888888,
              "#fdca26"
             ],
             [
              1,
              "#f0f921"
             ]
            ],
            "type": "histogram2dcontour"
           }
          ],
          "mesh3d": [
           {
            "colorbar": {
             "outlinewidth": 0,
             "ticks": ""
            },
            "type": "mesh3d"
           }
          ],
          "parcoords": [
           {
            "line": {
             "colorbar": {
              "outlinewidth": 0,
              "ticks": ""
             }
            },
            "type": "parcoords"
           }
          ],
          "pie": [
           {
            "automargin": true,
            "type": "pie"
           }
          ],
          "scatter": [
           {
            "fillpattern": {
             "fillmode": "overlay",
             "size": 10,
             "solidity": 0.2
            },
            "type": "scatter"
           }
          ],
          "scatter3d": [
           {
            "line": {
             "colorbar": {
              "outlinewidth": 0,
              "ticks": ""
             }
            },
            "marker": {
             "colorbar": {
              "outlinewidth": 0,
              "ticks": ""
             }
            },
            "type": "scatter3d"
           }
          ],
          "scattercarpet": [
           {
            "marker": {
             "colorbar": {
              "outlinewidth": 0,
              "ticks": ""
             }
            },
            "type": "scattercarpet"
           }
          ],
          "scattergeo": [
           {
            "marker": {
             "colorbar": {
              "outlinewidth": 0,
              "ticks": ""
             }
            },
            "type": "scattergeo"
           }
          ],
          "scattergl": [
           {
            "marker": {
             "colorbar": {
              "outlinewidth": 0,
              "ticks": ""
             }
            },
            "type": "scattergl"
           }
          ],
          "scattermapbox": [
           {
            "marker": {
             "colorbar": {
              "outlinewidth": 0,
              "ticks": ""
             }
            },
            "type": "scattermapbox"
           }
          ],
          "scatterpolar": [
           {
            "marker": {
             "colorbar": {
              "outlinewidth": 0,
              "ticks": ""
             }
            },
            "type": "scatterpolar"
           }
          ],
          "scatterpolargl": [
           {
            "marker": {
             "colorbar": {
              "outlinewidth": 0,
              "ticks": ""
             }
            },
            "type": "scatterpolargl"
           }
          ],
          "scatterternary": [
           {
            "marker": {
             "colorbar": {
              "outlinewidth": 0,
              "ticks": ""
             }
            },
            "type": "scatterternary"
           }
          ],
          "surface": [
           {
            "colorbar": {
             "outlinewidth": 0,
             "ticks": ""
            },
            "colorscale": [
             [
              0,
              "#0d0887"
             ],
             [
              0.1111111111111111,
              "#46039f"
             ],
             [
              0.2222222222222222,
              "#7201a8"
             ],
             [
              0.3333333333333333,
              "#9c179e"
             ],
             [
              0.4444444444444444,
              "#bd3786"
             ],
             [
              0.5555555555555556,
              "#d8576b"
             ],
             [
              0.6666666666666666,
              "#ed7953"
             ],
             [
              0.7777777777777778,
              "#fb9f3a"
             ],
             [
              0.8888888888888888,
              "#fdca26"
             ],
             [
              1,
              "#f0f921"
             ]
            ],
            "type": "surface"
           }
          ],
          "table": [
           {
            "cells": {
             "fill": {
              "color": "#EBF0F8"
             },
             "line": {
              "color": "white"
             }
            },
            "header": {
             "fill": {
              "color": "#C8D4E3"
             },
             "line": {
              "color": "white"
             }
            },
            "type": "table"
           }
          ]
         },
         "layout": {
          "annotationdefaults": {
           "arrowcolor": "#2a3f5f",
           "arrowhead": 0,
           "arrowwidth": 1
          },
          "autotypenumbers": "strict",
          "coloraxis": {
           "colorbar": {
            "outlinewidth": 0,
            "ticks": ""
           }
          },
          "colorscale": {
           "diverging": [
            [
             0,
             "#8e0152"
            ],
            [
             0.1,
             "#c51b7d"
            ],
            [
             0.2,
             "#de77ae"
            ],
            [
             0.3,
             "#f1b6da"
            ],
            [
             0.4,
             "#fde0ef"
            ],
            [
             0.5,
             "#f7f7f7"
            ],
            [
             0.6,
             "#e6f5d0"
            ],
            [
             0.7,
             "#b8e186"
            ],
            [
             0.8,
             "#7fbc41"
            ],
            [
             0.9,
             "#4d9221"
            ],
            [
             1,
             "#276419"
            ]
           ],
           "sequential": [
            [
             0,
             "#0d0887"
            ],
            [
             0.1111111111111111,
             "#46039f"
            ],
            [
             0.2222222222222222,
             "#7201a8"
            ],
            [
             0.3333333333333333,
             "#9c179e"
            ],
            [
             0.4444444444444444,
             "#bd3786"
            ],
            [
             0.5555555555555556,
             "#d8576b"
            ],
            [
             0.6666666666666666,
             "#ed7953"
            ],
            [
             0.7777777777777778,
             "#fb9f3a"
            ],
            [
             0.8888888888888888,
             "#fdca26"
            ],
            [
             1,
             "#f0f921"
            ]
           ],
           "sequentialminus": [
            [
             0,
             "#0d0887"
            ],
            [
             0.1111111111111111,
             "#46039f"
            ],
            [
             0.2222222222222222,
             "#7201a8"
            ],
            [
             0.3333333333333333,
             "#9c179e"
            ],
            [
             0.4444444444444444,
             "#bd3786"
            ],
            [
             0.5555555555555556,
             "#d8576b"
            ],
            [
             0.6666666666666666,
             "#ed7953"
            ],
            [
             0.7777777777777778,
             "#fb9f3a"
            ],
            [
             0.8888888888888888,
             "#fdca26"
            ],
            [
             1,
             "#f0f921"
            ]
           ]
          },
          "colorway": [
           "#636efa",
           "#EF553B",
           "#00cc96",
           "#ab63fa",
           "#FFA15A",
           "#19d3f3",
           "#FF6692",
           "#B6E880",
           "#FF97FF",
           "#FECB52"
          ],
          "font": {
           "color": "#2a3f5f"
          },
          "geo": {
           "bgcolor": "white",
           "lakecolor": "white",
           "landcolor": "#E5ECF6",
           "showlakes": true,
           "showland": true,
           "subunitcolor": "white"
          },
          "hoverlabel": {
           "align": "left"
          },
          "hovermode": "closest",
          "mapbox": {
           "style": "light"
          },
          "paper_bgcolor": "white",
          "plot_bgcolor": "#E5ECF6",
          "polar": {
           "angularaxis": {
            "gridcolor": "white",
            "linecolor": "white",
            "ticks": ""
           },
           "bgcolor": "#E5ECF6",
           "radialaxis": {
            "gridcolor": "white",
            "linecolor": "white",
            "ticks": ""
           }
          },
          "scene": {
           "xaxis": {
            "backgroundcolor": "#E5ECF6",
            "gridcolor": "white",
            "gridwidth": 2,
            "linecolor": "white",
            "showbackground": true,
            "ticks": "",
            "zerolinecolor": "white"
           },
           "yaxis": {
            "backgroundcolor": "#E5ECF6",
            "gridcolor": "white",
            "gridwidth": 2,
            "linecolor": "white",
            "showbackground": true,
            "ticks": "",
            "zerolinecolor": "white"
           },
           "zaxis": {
            "backgroundcolor": "#E5ECF6",
            "gridcolor": "white",
            "gridwidth": 2,
            "linecolor": "white",
            "showbackground": true,
            "ticks": "",
            "zerolinecolor": "white"
           }
          },
          "shapedefaults": {
           "line": {
            "color": "#2a3f5f"
           }
          },
          "ternary": {
           "aaxis": {
            "gridcolor": "white",
            "linecolor": "white",
            "ticks": ""
           },
           "baxis": {
            "gridcolor": "white",
            "linecolor": "white",
            "ticks": ""
           },
           "bgcolor": "#E5ECF6",
           "caxis": {
            "gridcolor": "white",
            "linecolor": "white",
            "ticks": ""
           }
          },
          "title": {
           "x": 0.05
          },
          "xaxis": {
           "automargin": true,
           "gridcolor": "white",
           "linecolor": "white",
           "ticks": "",
           "title": {
            "standoff": 15
           },
           "zerolinecolor": "white",
           "zerolinewidth": 2
          },
          "yaxis": {
           "automargin": true,
           "gridcolor": "white",
           "linecolor": "white",
           "ticks": "",
           "title": {
            "standoff": 15
           },
           "zerolinecolor": "white",
           "zerolinewidth": 2
          }
         }
        },
        "title": {
         "text": "TSNE plot of sols stability"
        },
        "width": 900,
        "xaxis": {
         "anchor": "y",
         "autorange": true,
         "domain": [
          0,
          1
         ],
         "range": [
          -6.851936222956414,
          7.446490594721942
         ],
         "title": {
          "text": "x"
         },
         "type": "linear"
        },
        "yaxis": {
         "anchor": "x",
         "autorange": true,
         "domain": [
          0,
          1
         ],
         "range": [
          -2.5940675977295333,
          3.03327125322177
         ],
         "title": {
          "text": "y"
         },
         "type": "linear"
        }
       }
      },
      "image/png": "[encoded data removed]"
     },
     "metadata": {},
     "output_type": "display_data"
    }
   ],
   "source": [
    "import plotly.express as px\n",
    "\n",
    "fig = px.scatter(x_plot, x='tsne1', y='tsne2', color='d, nm', hover_data=df_clear.columns, width=900, height=600)\n",
    "\n",
    "# # Customize aspect\n",
    "fig.update_traces(marker=dict(size=8, line=dict(width=0.5)), selector=dict(mode='markers')) \n",
    "fig.update_layout(title='TSNE plot of sols stability', xaxis_title='x', yaxis_title='y')\n",
    "# fig.update_yaxes(scaleanchor = \"x\", scaleratio = 1)\n",
    "fig.write_html(\"TSNE_plot_d.html\")\n",
    "fig.show()"
   ]
  },
  {
   "cell_type": "code",
   "execution_count": null,
   "id": "d16416b5",
   "metadata": {},
   "outputs": [],
   "source": []
  }
 ],
 "metadata": {
  "kernelspec": {
   "display_name": "Python 3 (ipykernel)",
   "language": "python",
   "name": "python3"
  },
  "language_info": {
   "codemirror_mode": {
    "name": "ipython",
    "version": 3
   },
   "file_extension": ".py",
   "mimetype": "text/x-python",
   "name": "python",
   "nbconvert_exporter": "python",
   "pygments_lexer": "ipython3",
   "version": "3.10.10"
  }
 },
 "nbformat": 4,
 "nbformat_minor": 5
}
