{
 "cells": [
  {
   "cell_type": "code",
   "execution_count": 3,
   "metadata": {
    "collapsed": true,
    "jupyter": {
     "outputs_hidden": true
    },
    "tags": []
   },
   "outputs": [
    {
     "name": "stdout",
     "output_type": "stream",
     "text": [
      "Collecting numpy==1.22.0\n",
      "  Downloading numpy-1.22.0-cp310-cp310-manylinux_2_17_x86_64.manylinux2014_x86_64.whl (16.8 MB)\n",
      "\u001b[2K     \u001b[90m━━━━━━━━━━━━━━━━━━━━━━━━━━━━━━━━━━━━━━━━\u001b[0m \u001b[32m16.8/16.8 MB\u001b[0m \u001b[31m18.4 MB/s\u001b[0m eta \u001b[36m0:00:00\u001b[0m00:01\u001b[0m00:01\u001b[0m\n",
      "\u001b[?25hCollecting pandas==1.5.1\n",
      "  Downloading pandas-1.5.1-cp310-cp310-manylinux_2_17_x86_64.manylinux2014_x86_64.whl (12.1 MB)\n",
      "\u001b[2K     \u001b[90m━━━━━━━━━━━━━━━━━━━━━━━━━━━━━━━━━━━━━━━━\u001b[0m \u001b[32m12.1/12.1 MB\u001b[0m \u001b[31m18.8 MB/s\u001b[0m eta \u001b[36m0:00:00\u001b[0m00:01\u001b[0m00:01\u001b[0m\n",
      "\u001b[?25hCollecting openpyxl==3.1.2\n",
      "  Downloading openpyxl-3.1.2-py2.py3-none-any.whl (249 kB)\n",
      "\u001b[2K     \u001b[90m━━━━━━━━━━━━━━━━━━━━━━━━━━━━━━━━━━━━━━\u001b[0m \u001b[32m250.0/250.0 kB\u001b[0m \u001b[31m24.3 MB/s\u001b[0m eta \u001b[36m0:00:00\u001b[0m\n",
      "\u001b[?25hCollecting pyexcel==0.7.0\n",
      "  Downloading pyexcel-0.7.0-py2.py3-none-any.whl (87 kB)\n",
      "\u001b[2K     \u001b[90m━━━━━━━━━━━━━━━━━━━━━━━━━━━━━━━━━━━━━━━━\u001b[0m \u001b[32m87.7/87.7 kB\u001b[0m \u001b[31m31.4 MB/s\u001b[0m eta \u001b[36m0:00:00\u001b[0m\n",
      "\u001b[?25hCollecting perspective-python==2.0.0\n",
      "  Downloading perspective_python-2.0.0-cp310-cp310-manylinux_2_17_x86_64.manylinux2014_x86_64.whl (28.0 MB)\n",
      "\u001b[2K     \u001b[90m━━━━━━━━━━━━━━━━━━━━━━━━━━━━━━━━━━━━━━━━\u001b[0m \u001b[32m28.0/28.0 MB\u001b[0m \u001b[31m14.1 MB/s\u001b[0m eta \u001b[36m0:00:00\u001b[0m00:01\u001b[0m00:01\u001b[0m\n",
      "\u001b[?25hRequirement already satisfied: pytz>=2020.1 in /opt/conda/lib/python3.10/site-packages (from pandas==1.5.1->-r requirements.txt (line 2)) (2023.3)\n",
      "Requirement already satisfied: python-dateutil>=2.8.1 in /opt/conda/lib/python3.10/site-packages (from pandas==1.5.1->-r requirements.txt (line 2)) (2.8.2)\n",
      "Requirement already satisfied: et-xmlfile in /opt/conda/lib/python3.10/site-packages (from openpyxl==3.1.2->-r requirements.txt (line 3)) (1.1.0)\n",
      "Collecting pyexcel-io>=0.6.2\n",
      "  Downloading pyexcel_io-0.6.6-py2.py3-none-any.whl (44 kB)\n",
      "\u001b[2K     \u001b[90m━━━━━━━━━━━━━━━━━━━━━━━━━━━━━━━━━━━━━━━━\u001b[0m \u001b[32m44.2/44.2 kB\u001b[0m \u001b[31m16.6 MB/s\u001b[0m eta \u001b[36m0:00:00\u001b[0m\n",
      "\u001b[?25hCollecting texttable>=0.8.2\n",
      "  Downloading texttable-1.6.7-py2.py3-none-any.whl (10 kB)\n",
      "Collecting lml>=0.0.4\n",
      "  Downloading lml-0.1.0-py2.py3-none-any.whl (10 kB)\n",
      "Collecting chardet\n",
      "  Downloading chardet-5.1.0-py3-none-any.whl (199 kB)\n",
      "\u001b[2K     \u001b[90m━━━━━━━━━━━━━━━━━━━━━━━━━━━━━━━━━━━━━━\u001b[0m \u001b[32m199.1/199.1 kB\u001b[0m \u001b[31m19.4 MB/s\u001b[0m eta \u001b[36m0:00:00\u001b[0m\n",
      "\u001b[?25hRequirement already satisfied: traitlets<6,>=4.3.2 in /opt/conda/lib/python3.10/site-packages (from perspective-python==2.0.0->-r requirements.txt (line 5)) (5.9.0)\n",
      "Collecting future<1,>=0.16.0\n",
      "  Downloading future-0.18.3.tar.gz (840 kB)\n",
      "\u001b[2K     \u001b[90m━━━━━━━━━━━━━━━━━━━━━━━━━━━━━━━━━━━━━━\u001b[0m \u001b[32m840.9/840.9 kB\u001b[0m \u001b[31m15.8 MB/s\u001b[0m eta \u001b[36m0:00:00\u001b[0ma \u001b[36m0:00:01\u001b[0m\n",
      "\u001b[?25h  Preparing metadata (setup.py) ... \u001b[?25ldone\n",
      "\u001b[?25hRequirement already satisfied: ipywidgets<9,>=7.5.1 in /opt/conda/lib/python3.10/site-packages (from perspective-python==2.0.0->-r requirements.txt (line 5)) (8.0.6)\n",
      "Requirement already satisfied: ipython>=6.1.0 in /opt/conda/lib/python3.10/site-packages (from ipywidgets<9,>=7.5.1->perspective-python==2.0.0->-r requirements.txt (line 5)) (8.12.0)\n",
      "Requirement already satisfied: jupyterlab-widgets~=3.0.7 in /opt/conda/lib/python3.10/site-packages (from ipywidgets<9,>=7.5.1->perspective-python==2.0.0->-r requirements.txt (line 5)) (3.0.7)\n",
      "Requirement already satisfied: ipykernel>=4.5.1 in /opt/conda/lib/python3.10/site-packages (from ipywidgets<9,>=7.5.1->perspective-python==2.0.0->-r requirements.txt (line 5)) (6.22.0)\n",
      "Requirement already satisfied: widgetsnbextension~=4.0.7 in /opt/conda/lib/python3.10/site-packages (from ipywidgets<9,>=7.5.1->perspective-python==2.0.0->-r requirements.txt (line 5)) (4.0.7)\n",
      "Requirement already satisfied: six>=1.5 in /opt/conda/lib/python3.10/site-packages (from python-dateutil>=2.8.1->pandas==1.5.1->-r requirements.txt (line 2)) (1.16.0)\n",
      "Requirement already satisfied: jupyter-core!=5.0.*,>=4.12 in /opt/conda/lib/python3.10/site-packages (from ipykernel>=4.5.1->ipywidgets<9,>=7.5.1->perspective-python==2.0.0->-r requirements.txt (line 5)) (5.3.0)\n",
      "Requirement already satisfied: jupyter-client>=6.1.12 in /opt/conda/lib/python3.10/site-packages (from ipykernel>=4.5.1->ipywidgets<9,>=7.5.1->perspective-python==2.0.0->-r requirements.txt (line 5)) (8.2.0)\n",
      "Requirement already satisfied: comm>=0.1.1 in /opt/conda/lib/python3.10/site-packages (from ipykernel>=4.5.1->ipywidgets<9,>=7.5.1->perspective-python==2.0.0->-r requirements.txt (line 5)) (0.1.3)\n",
      "Requirement already satisfied: pyzmq>=20 in /opt/conda/lib/python3.10/site-packages (from ipykernel>=4.5.1->ipywidgets<9,>=7.5.1->perspective-python==2.0.0->-r requirements.txt (line 5)) (25.0.2)\n",
      "Requirement already satisfied: psutil in /opt/conda/lib/python3.10/site-packages (from ipykernel>=4.5.1->ipywidgets<9,>=7.5.1->perspective-python==2.0.0->-r requirements.txt (line 5)) (5.9.4)\n",
      "Requirement already satisfied: tornado>=6.1 in /opt/conda/lib/python3.10/site-packages (from ipykernel>=4.5.1->ipywidgets<9,>=7.5.1->perspective-python==2.0.0->-r requirements.txt (line 5)) (6.2)\n",
      "Requirement already satisfied: matplotlib-inline>=0.1 in /opt/conda/lib/python3.10/site-packages (from ipykernel>=4.5.1->ipywidgets<9,>=7.5.1->perspective-python==2.0.0->-r requirements.txt (line 5)) (0.1.6)\n",
      "Requirement already satisfied: nest-asyncio in /opt/conda/lib/python3.10/site-packages (from ipykernel>=4.5.1->ipywidgets<9,>=7.5.1->perspective-python==2.0.0->-r requirements.txt (line 5)) (1.5.6)\n",
      "Requirement already satisfied: debugpy>=1.6.5 in /opt/conda/lib/python3.10/site-packages (from ipykernel>=4.5.1->ipywidgets<9,>=7.5.1->perspective-python==2.0.0->-r requirements.txt (line 5)) (1.6.7)\n",
      "Requirement already satisfied: packaging in /opt/conda/lib/python3.10/site-packages (from ipykernel>=4.5.1->ipywidgets<9,>=7.5.1->perspective-python==2.0.0->-r requirements.txt (line 5)) (23.1)\n",
      "Requirement already satisfied: decorator in /opt/conda/lib/python3.10/site-packages (from ipython>=6.1.0->ipywidgets<9,>=7.5.1->perspective-python==2.0.0->-r requirements.txt (line 5)) (5.1.1)\n",
      "Requirement already satisfied: stack-data in /opt/conda/lib/python3.10/site-packages (from ipython>=6.1.0->ipywidgets<9,>=7.5.1->perspective-python==2.0.0->-r requirements.txt (line 5)) (0.6.2)\n",
      "Requirement already satisfied: pexpect>4.3 in /opt/conda/lib/python3.10/site-packages (from ipython>=6.1.0->ipywidgets<9,>=7.5.1->perspective-python==2.0.0->-r requirements.txt (line 5)) (4.8.0)\n",
      "Requirement already satisfied: pickleshare in /opt/conda/lib/python3.10/site-packages (from ipython>=6.1.0->ipywidgets<9,>=7.5.1->perspective-python==2.0.0->-r requirements.txt (line 5)) (0.7.5)\n",
      "Requirement already satisfied: backcall in /opt/conda/lib/python3.10/site-packages (from ipython>=6.1.0->ipywidgets<9,>=7.5.1->perspective-python==2.0.0->-r requirements.txt (line 5)) (0.2.0)\n",
      "Requirement already satisfied: pygments>=2.4.0 in /opt/conda/lib/python3.10/site-packages (from ipython>=6.1.0->ipywidgets<9,>=7.5.1->perspective-python==2.0.0->-r requirements.txt (line 5)) (2.15.0)\n",
      "Requirement already satisfied: prompt-toolkit!=3.0.37,<3.1.0,>=3.0.30 in /opt/conda/lib/python3.10/site-packages (from ipython>=6.1.0->ipywidgets<9,>=7.5.1->perspective-python==2.0.0->-r requirements.txt (line 5)) (3.0.38)\n",
      "Requirement already satisfied: jedi>=0.16 in /opt/conda/lib/python3.10/site-packages (from ipython>=6.1.0->ipywidgets<9,>=7.5.1->perspective-python==2.0.0->-r requirements.txt (line 5)) (0.18.2)\n",
      "Requirement already satisfied: parso<0.9.0,>=0.8.0 in /opt/conda/lib/python3.10/site-packages (from jedi>=0.16->ipython>=6.1.0->ipywidgets<9,>=7.5.1->perspective-python==2.0.0->-r requirements.txt (line 5)) (0.8.3)\n",
      "Requirement already satisfied: platformdirs>=2.5 in /opt/conda/lib/python3.10/site-packages (from jupyter-core!=5.0.*,>=4.12->ipykernel>=4.5.1->ipywidgets<9,>=7.5.1->perspective-python==2.0.0->-r requirements.txt (line 5)) (3.2.0)\n",
      "Requirement already satisfied: ptyprocess>=0.5 in /opt/conda/lib/python3.10/site-packages (from pexpect>4.3->ipython>=6.1.0->ipywidgets<9,>=7.5.1->perspective-python==2.0.0->-r requirements.txt (line 5)) (0.7.0)\n",
      "Requirement already satisfied: wcwidth in /opt/conda/lib/python3.10/site-packages (from prompt-toolkit!=3.0.37,<3.1.0,>=3.0.30->ipython>=6.1.0->ipywidgets<9,>=7.5.1->perspective-python==2.0.0->-r requirements.txt (line 5)) (0.2.6)\n",
      "Requirement already satisfied: asttokens>=2.1.0 in /opt/conda/lib/python3.10/site-packages (from stack-data->ipython>=6.1.0->ipywidgets<9,>=7.5.1->perspective-python==2.0.0->-r requirements.txt (line 5)) (2.2.1)\n",
      "Requirement already satisfied: executing>=1.2.0 in /opt/conda/lib/python3.10/site-packages (from stack-data->ipython>=6.1.0->ipywidgets<9,>=7.5.1->perspective-python==2.0.0->-r requirements.txt (line 5)) (1.2.0)\n",
      "Requirement already satisfied: pure-eval in /opt/conda/lib/python3.10/site-packages (from stack-data->ipython>=6.1.0->ipywidgets<9,>=7.5.1->perspective-python==2.0.0->-r requirements.txt (line 5)) (0.2.2)\n",
      "Building wheels for collected packages: future\n",
      "  Building wheel for future (setup.py) ... \u001b[?25ldone\n",
      "\u001b[?25h  Created wheel for future: filename=future-0.18.3-py3-none-any.whl size=492022 sha256=6f6fe4d166d5972a7bc104da9103b8904abc3fffd2078dc2d282e49855727b21\n",
      "  Stored in directory: /home/jovyan/.cache/pip/wheels/5e/a9/47/f118e66afd12240e4662752cc22cefae5d97275623aa8ef57d\n",
      "Successfully built future\n",
      "Installing collected packages: texttable, lml, pyexcel-io, openpyxl, numpy, future, chardet, pyexcel, pandas, perspective-python\n",
      "  Attempting uninstall: openpyxl\n",
      "    Found existing installation: openpyxl 3.1.1\n",
      "    Uninstalling openpyxl-3.1.1:\n",
      "      Successfully uninstalled openpyxl-3.1.1\n",
      "  Attempting uninstall: numpy\n",
      "    Found existing installation: numpy 1.23.5\n",
      "    Uninstalling numpy-1.23.5:\n",
      "      Successfully uninstalled numpy-1.23.5\n",
      "  Attempting uninstall: pandas\n",
      "    Found existing installation: pandas 2.0.0\n",
      "    Uninstalling pandas-2.0.0:\n",
      "      Successfully uninstalled pandas-2.0.0\n",
      "Successfully installed chardet-5.1.0 future-0.18.3 lml-0.1.0 numpy-1.22.0 openpyxl-3.1.2 pandas-1.5.1 perspective-python-2.0.0 pyexcel-0.7.0 pyexcel-io-0.6.6 texttable-1.6.7\n"
     ]
    }
   ],
   "source": [
    "!pip install -r requirements.txt "
   ]
  },
  {
   "cell_type": "code",
   "execution_count": 5,
   "metadata": {
    "tags": []
   },
   "outputs": [],
   "source": [
    "import numpy as np\n",
    "import pandas as pd\n",
    "import openpyxl as xl\n",
    "import FILibExcel\n",
    "import json"
   ]
  },
  {
   "cell_type": "code",
   "execution_count": 6,
   "metadata": {
    "tags": []
   },
   "outputs": [],
   "source": [
    "from perspective import Table, PerspectiveWidget"
   ]
  },
  {
   "cell_type": "code",
   "execution_count": 7,
   "metadata": {
    "tags": []
   },
   "outputs": [],
   "source": [
    "excel_path = r\"./mock/AntiBio1.xlsx\""
   ]
  },
  {
   "cell_type": "code",
   "execution_count": 8,
   "metadata": {
    "tags": []
   },
   "outputs": [],
   "source": [
    "#wb = xl.load_workbook(filename=excel_path, read_only=True, keep_vba=False, data_only=True, keep_links=False)"
   ]
  },
  {
   "cell_type": "code",
   "execution_count": 9,
   "metadata": {
    "tags": []
   },
   "outputs": [
    {
     "name": "stdout",
     "output_type": "stream",
     "text": [
      "\n",
      "worksheet name: Table\n",
      "tables in worksheet: 0\n",
      "\n",
      "worksheet name: Sheet1\n",
      "tables in worksheet: 1\n",
      "table name: TLantTest\n",
      "\n",
      "worksheet name: Legend-Main\n",
      "tables in worksheet: 1\n",
      "table name: T_Legend_main\n",
      "\n",
      "worksheet name: Bac\n",
      "tables in worksheet: 1\n",
      "table name: T_Bacteria\n",
      "Initial count =  16\n"
     ]
    }
   ],
   "source": [
    "tables_dict = FILibExcel.get_all_tables(file_name=excel_path)\n",
    "df_lants = tables_dict[\"TLantTest\"]['dataframe']\n",
    "print(\"Initial count = \", len(df_lants))"
   ]
  },
  {
   "cell_type": "code",
   "execution_count": 10,
   "metadata": {
    "tags": []
   },
   "outputs": [
    {
     "data": {
      "text/plain": [
       "RE                            object\n",
       "rRE, (VI),Ǻ1                 float64\n",
       "cRE, отн. Ед                 float64\n",
       "СТ                             int64\n",
       "КЧ                             int64\n",
       "КЧ2                            int64\n",
       "рН                           float64\n",
       "lgβ                          float64\n",
       "Электронное строение RE3+     object\n",
       "Цена                          object\n",
       "dtype: object"
      ]
     },
     "execution_count": 10,
     "metadata": {},
     "output_type": "execute_result"
    }
   ],
   "source": [
    "df_lants.dtypes"
   ]
  },
  {
   "cell_type": "code",
   "execution_count": 11,
   "metadata": {
    "tags": []
   },
   "outputs": [],
   "source": [
    "schema = {\n",
    "    \"RE\":str,\n",
    "    \"rRE, (VI),Ǻ1\":float,\n",
    "    \"cRE, отн. Ед\":float,\n",
    "    \"СТ\":int,\n",
    "    \"КЧ\":int,\n",
    "    \"КЧ2\":int,\n",
    "    \"рН\":float,\n",
    "    \"lgβ\":float,\n",
    "    \"Электронное строение RE3+\":str,\n",
    "    \"Цена\":str\n",
    "}"
   ]
  },
  {
   "cell_type": "code",
   "execution_count": 12,
   "metadata": {
    "tags": []
   },
   "outputs": [],
   "source": [
    "\n",
    "table = Table(schema, index=\"RE\")\n",
    "table.update(df_lants)"
   ]
  },
  {
   "cell_type": "code",
   "execution_count": 13,
   "metadata": {
    "collapsed": false,
    "jupyter": {
     "outputs_hidden": false
    },
    "tags": []
   },
   "outputs": [
    {
     "name": "stdout",
     "output_type": "stream",
     "text": [
      "v1 has 16 rows and 10 columns\n"
     ]
    },
    {
     "data": {
      "text/html": [
       "<div>\n",
       "<style scoped>\n",
       "    .dataframe tbody tr th:only-of-type {\n",
       "        vertical-align: middle;\n",
       "    }\n",
       "\n",
       "    .dataframe tbody tr th {\n",
       "        vertical-align: top;\n",
       "    }\n",
       "\n",
       "    .dataframe thead th {\n",
       "        text-align: right;\n",
       "    }\n",
       "</style>\n",
       "<table border=\"1\" class=\"dataframe\">\n",
       "  <thead>\n",
       "    <tr style=\"text-align: right;\">\n",
       "      <th></th>\n",
       "      <th>RE</th>\n",
       "      <th>rRE, (VI),Ǻ1</th>\n",
       "      <th>cRE, отн. Ед</th>\n",
       "      <th>СТ</th>\n",
       "      <th>КЧ</th>\n",
       "      <th>КЧ2</th>\n",
       "      <th>рН</th>\n",
       "      <th>lgβ</th>\n",
       "      <th>Электронное строение RE3+</th>\n",
       "      <th>Цена</th>\n",
       "    </tr>\n",
       "  </thead>\n",
       "  <tbody>\n",
       "    <tr>\n",
       "      <th>0</th>\n",
       "      <td>Ca</td>\n",
       "      <td>1.00</td>\n",
       "      <td>2.20</td>\n",
       "      <td>7</td>\n",
       "      <td>6</td>\n",
       "      <td>6</td>\n",
       "      <td>5.63</td>\n",
       "      <td>None</td>\n",
       "      <td>400</td>\n",
       "      <td>2 100</td>\n",
       "    </tr>\n",
       "    <tr>\n",
       "      <th>1</th>\n",
       "      <td>Ce</td>\n",
       "      <td>1.01</td>\n",
       "      <td>2.61</td>\n",
       "      <td>1</td>\n",
       "      <td>11</td>\n",
       "      <td>11</td>\n",
       "      <td>4.20</td>\n",
       "      <td>0.9</td>\n",
       "      <td>601.43</td>\n",
       "      <td>32790</td>\n",
       "    </tr>\n",
       "    <tr>\n",
       "      <th>2</th>\n",
       "      <td>Dy</td>\n",
       "      <td>0.91</td>\n",
       "      <td>2.07</td>\n",
       "      <td>3</td>\n",
       "      <td>10</td>\n",
       "      <td>10</td>\n",
       "      <td>5.78</td>\n",
       "      <td>0.6</td>\n",
       "      <td>602.437</td>\n",
       "      <td>72000</td>\n",
       "    </tr>\n",
       "    <tr>\n",
       "      <th>3</th>\n",
       "      <td>Er</td>\n",
       "      <td>0.89</td>\n",
       "      <td>2.02</td>\n",
       "      <td>4</td>\n",
       "      <td>9</td>\n",
       "      <td>9</td>\n",
       "      <td>5.16</td>\n",
       "      <td>0.4</td>\n",
       "      <td>602.439</td>\n",
       "      <td>89500</td>\n",
       "    </tr>\n",
       "    <tr>\n",
       "      <th>4</th>\n",
       "      <td>Eu</td>\n",
       "      <td>0.95</td>\n",
       "      <td>1.81</td>\n",
       "      <td>2</td>\n",
       "      <td>10</td>\n",
       "      <td>10</td>\n",
       "      <td>5.56</td>\n",
       "      <td>0.8</td>\n",
       "      <td>602.434</td>\n",
       "      <td>134500</td>\n",
       "    </tr>\n",
       "    <tr>\n",
       "      <th>5</th>\n",
       "      <td>Gd</td>\n",
       "      <td>0.94</td>\n",
       "      <td>2.40</td>\n",
       "      <td>2</td>\n",
       "      <td>10</td>\n",
       "      <td>10</td>\n",
       "      <td>4.51</td>\n",
       "      <td>0.8</td>\n",
       "      <td>602.435.520</td>\n",
       "      <td>78450</td>\n",
       "    </tr>\n",
       "    <tr>\n",
       "      <th>6</th>\n",
       "      <td>Ho</td>\n",
       "      <td>0.90</td>\n",
       "      <td>2.12</td>\n",
       "      <td>3</td>\n",
       "      <td>9</td>\n",
       "      <td>9</td>\n",
       "      <td>5.96</td>\n",
       "      <td>0.5</td>\n",
       "      <td>602.438</td>\n",
       "      <td>16000</td>\n",
       "    </tr>\n",
       "    <tr>\n",
       "      <th>7</th>\n",
       "      <td>La</td>\n",
       "      <td>1.03</td>\n",
       "      <td>2.49</td>\n",
       "      <td>1</td>\n",
       "      <td>11</td>\n",
       "      <td>11</td>\n",
       "      <td>4.44</td>\n",
       "      <td>0.8</td>\n",
       "      <td>600.430.520</td>\n",
       "      <td>138000</td>\n",
       "    </tr>\n",
       "    <tr>\n",
       "      <th>8</th>\n",
       "      <td>Lu</td>\n",
       "      <td>0.86</td>\n",
       "      <td>2.68</td>\n",
       "      <td>7</td>\n",
       "      <td>9</td>\n",
       "      <td>9</td>\n",
       "      <td>5.50</td>\n",
       "      <td>0.6</td>\n",
       "      <td>602.4312.520</td>\n",
       "      <td>252000</td>\n",
       "    </tr>\n",
       "    <tr>\n",
       "      <th>9</th>\n",
       "      <td>Pr</td>\n",
       "      <td>0.99</td>\n",
       "      <td>2.24</td>\n",
       "      <td>2</td>\n",
       "      <td>10</td>\n",
       "      <td>10</td>\n",
       "      <td>4.51</td>\n",
       "      <td>0.9</td>\n",
       "      <td>602.43</td>\n",
       "      <td>98500</td>\n",
       "    </tr>\n",
       "    <tr>\n",
       "      <th>10</th>\n",
       "      <td>Sc</td>\n",
       "      <td>0.75</td>\n",
       "      <td>2.35</td>\n",
       "      <td>6</td>\n",
       "      <td>6</td>\n",
       "      <td>6</td>\n",
       "      <td>2.03</td>\n",
       "      <td>None</td>\n",
       "      <td>400.32</td>\n",
       "      <td>286300</td>\n",
       "    </tr>\n",
       "    <tr>\n",
       "      <th>11</th>\n",
       "      <td>Sm</td>\n",
       "      <td>0.96</td>\n",
       "      <td>1.90</td>\n",
       "      <td>2</td>\n",
       "      <td>10</td>\n",
       "      <td>10</td>\n",
       "      <td>5.08</td>\n",
       "      <td>0.9</td>\n",
       "      <td>602.433</td>\n",
       "      <td>97000</td>\n",
       "    </tr>\n",
       "    <tr>\n",
       "      <th>12</th>\n",
       "      <td>Tb</td>\n",
       "      <td>0.92</td>\n",
       "      <td>2.29</td>\n",
       "      <td>2</td>\n",
       "      <td>10</td>\n",
       "      <td>10</td>\n",
       "      <td>1.87</td>\n",
       "      <td>0.7</td>\n",
       "      <td>602.436</td>\n",
       "      <td>81650</td>\n",
       "    </tr>\n",
       "    <tr>\n",
       "      <th>13</th>\n",
       "      <td>Tm</td>\n",
       "      <td>0.88</td>\n",
       "      <td>2.03</td>\n",
       "      <td>4</td>\n",
       "      <td>9</td>\n",
       "      <td>9</td>\n",
       "      <td>5.54</td>\n",
       "      <td>0.4</td>\n",
       "      <td>602.431</td>\n",
       "      <td>44910</td>\n",
       "    </tr>\n",
       "    <tr>\n",
       "      <th>14</th>\n",
       "      <td>Y</td>\n",
       "      <td>0.90</td>\n",
       "      <td>2.52</td>\n",
       "      <td>2</td>\n",
       "      <td>10</td>\n",
       "      <td>10</td>\n",
       "      <td>5.92</td>\n",
       "      <td>0.4</td>\n",
       "      <td>500.42</td>\n",
       "      <td>15260</td>\n",
       "    </tr>\n",
       "    <tr>\n",
       "      <th>15</th>\n",
       "      <td>Yb</td>\n",
       "      <td>0.87</td>\n",
       "      <td>1.78</td>\n",
       "      <td>5</td>\n",
       "      <td>9</td>\n",
       "      <td>9</td>\n",
       "      <td>5.74</td>\n",
       "      <td>0.4</td>\n",
       "      <td>602.4311.520</td>\n",
       "      <td>84040</td>\n",
       "    </tr>\n",
       "  </tbody>\n",
       "</table>\n",
       "</div>"
      ],
      "text/plain": [
       "    RE  rRE, (VI),Ǻ1  cRE, отн. Ед  СТ  КЧ  КЧ2    рН   lgβ  \\\n",
       "0   Ca          1.00          2.20   7   6    6  5.63  None   \n",
       "1   Ce          1.01          2.61   1  11   11  4.20   0.9   \n",
       "2   Dy          0.91          2.07   3  10   10  5.78   0.6   \n",
       "3   Er          0.89          2.02   4   9    9  5.16   0.4   \n",
       "4   Eu          0.95          1.81   2  10   10  5.56   0.8   \n",
       "5   Gd          0.94          2.40   2  10   10  4.51   0.8   \n",
       "6   Ho          0.90          2.12   3   9    9  5.96   0.5   \n",
       "7   La          1.03          2.49   1  11   11  4.44   0.8   \n",
       "8   Lu          0.86          2.68   7   9    9  5.50   0.6   \n",
       "9   Pr          0.99          2.24   2  10   10  4.51   0.9   \n",
       "10  Sc          0.75          2.35   6   6    6  2.03  None   \n",
       "11  Sm          0.96          1.90   2  10   10  5.08   0.9   \n",
       "12  Tb          0.92          2.29   2  10   10  1.87   0.7   \n",
       "13  Tm          0.88          2.03   4   9    9  5.54   0.4   \n",
       "14   Y          0.90          2.52   2  10   10  5.92   0.4   \n",
       "15  Yb          0.87          1.78   5   9    9  5.74   0.4   \n",
       "\n",
       "   Электронное строение RE3+    Цена  \n",
       "0                        400   2 100  \n",
       "1                     601.43   32790  \n",
       "2                    602.437   72000  \n",
       "3                    602.439   89500  \n",
       "4                    602.434  134500  \n",
       "5                602.435.520   78450  \n",
       "6                    602.438   16000  \n",
       "7                600.430.520  138000  \n",
       "8               602.4312.520  252000  \n",
       "9                     602.43   98500  \n",
       "10                    400.32  286300  \n",
       "11                   602.433   97000  \n",
       "12                   602.436   81650  \n",
       "13                   602.431   44910  \n",
       "14                    500.42   15260  \n",
       "15              602.4311.520   84040  "
      ]
     },
     "execution_count": 13,
     "metadata": {},
     "output_type": "execute_result"
    }
   ],
   "source": [
    "v1 = table.view()\n",
    "print(\"v1 has {} rows and {} columns\".format(v1.num_rows(), v1.num_columns()))\n",
    "v1.to_df()"
   ]
  },
  {
   "cell_type": "code",
   "execution_count": 14,
   "metadata": {
    "tags": []
   },
   "outputs": [],
   "source": [
    "widget = PerspectiveWidget(table)\n",
    "# f = open (r\"f:\\Repo\\ChemML\\TestVis.config.json\", \"r\")\n",
    "# config = json.load(f)\n",
    "# widget.restore(**config)"
   ]
  },
  {
   "cell_type": "code",
   "execution_count": 15,
   "metadata": {
    "tags": []
   },
   "outputs": [
    {
     "data": {
      "application/vnd.jupyter.widget-view+json": {
       "model_id": "510199d777f4426e949fd5539d028899",
       "version_major": 2,
       "version_minor": 0
      },
      "text/plain": [
       "PerspectiveWidget(columns=['RE', 'rRE, (VI),Ǻ1', 'cRE, отн. Ед', 'СТ', 'КЧ', 'КЧ2', 'рН', 'lgβ', 'Электронное …"
      ]
     },
     "execution_count": 15,
     "metadata": {},
     "output_type": "execute_result"
    }
   ],
   "source": [
    "widget"
   ]
  },
  {
   "cell_type": "code",
   "execution_count": 16,
   "metadata": {
    "tags": []
   },
   "outputs": [
    {
     "data": {
      "text/plain": [
       "{'group_by': [],\n",
       " 'split_by': [],\n",
       " 'filter': [],\n",
       " 'sort': [],\n",
       " 'aggregates': {},\n",
       " 'columns': ['RE',\n",
       "  'rRE, (VI),Ǻ1',\n",
       "  'cRE, отн. Ед',\n",
       "  'СТ',\n",
       "  'КЧ',\n",
       "  'КЧ2',\n",
       "  'рН',\n",
       "  'lgβ',\n",
       "  'Электронное строение RE3+',\n",
       "  'Цена'],\n",
       " 'expressions': [],\n",
       " 'plugin': 'Datagrid',\n",
       " 'plugin_config': {'columns': {}, 'editable': False, 'scroll_lock': False},\n",
       " 'theme': 'Pro Light',\n",
       " 'settings': True,\n",
       " 'title': None}"
      ]
     },
     "execution_count": 16,
     "metadata": {},
     "output_type": "execute_result"
    }
   ],
   "source": [
    "widget.save()"
   ]
  },
  {
   "cell_type": "code",
   "execution_count": null,
   "metadata": {},
   "outputs": [],
   "source": []
  }
 ],
 "metadata": {
  "kernelspec": {
   "display_name": "Python 3 (ipykernel)",
   "language": "python",
   "name": "python3"
  },
  "language_info": {
   "codemirror_mode": {
    "name": "ipython",
    "version": 3
   },
   "file_extension": ".py",
   "mimetype": "text/x-python",
   "name": "python",
   "nbconvert_exporter": "python",
   "pygments_lexer": "ipython3",
   "version": "3.10.10"
  }
 },
 "nbformat": 4,
 "nbformat_minor": 4
}
