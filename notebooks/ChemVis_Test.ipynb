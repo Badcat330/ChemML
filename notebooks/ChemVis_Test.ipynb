{
 "cells": [
  {
   "cell_type": "code",
   "execution_count": 3,
   "metadata": {},
   "outputs": [],
   "source": [
    "import numpy as np\n",
    "import pandas as pd\n",
    "import openpyxl as xl\n",
    "import FILibExcel\n",
    "import json"
   ]
  },
  {
   "cell_type": "code",
   "execution_count": 4,
   "metadata": {},
   "outputs": [],
   "source": [
    "\n",
    "from perspective import Table, PerspectiveWidget"
   ]
  },
  {
   "cell_type": "code",
   "execution_count": 5,
   "metadata": {},
   "outputs": [],
   "source": [
    "excel_path = r\"../static/mock/AntiBio1.xlsx\""
   ]
  },
  {
   "cell_type": "code",
   "execution_count": 6,
   "metadata": {},
   "outputs": [],
   "source": [
    "#wb = xl.load_workbook(filename=excel_path, read_only=True, keep_vba=False, data_only=True, keep_links=False)"
   ]
  },
  {
   "cell_type": "code",
   "execution_count": 7,
   "metadata": {},
   "outputs": [
    {
     "name": "stdout",
     "output_type": "stream",
     "text": [
      "\n",
      "worksheet name: Table\n",
      "tables in worksheet: 0\n",
      "\n",
      "worksheet name: Sheet1\n",
      "tables in worksheet: 1\n",
      "table name: TLantTest\n",
      "\n",
      "worksheet name: Legend-Main\n",
      "tables in worksheet: 1\n",
      "table name: T_Legend_main\n",
      "\n",
      "worksheet name: Bac\n",
      "tables in worksheet: 1\n",
      "table name: T_Bacteria\n",
      "Initial count =  16\n"
     ]
    }
   ],
   "source": [
    "tables_dict = FILibExcel.get_all_tables(file_name=excel_path)\n",
    "df_lants = tables_dict[\"TLantTest\"]['dataframe']\n",
    "print(\"Initial count = \", len(df_lants))"
   ]
  },
  {
   "cell_type": "code",
   "execution_count": null,
   "metadata": {},
   "outputs": [],
   "source": []
  },
  {
   "cell_type": "code",
   "execution_count": 28,
   "metadata": {},
   "outputs": [
    {
     "data": {
      "text/plain": [
       "RE                            object\n",
       "rRE, (VI),Ǻ1                 float64\n",
       "cRE, отн. Ед                 float64\n",
       "СТ                             int64\n",
       "КЧ                             int64\n",
       "КЧ2                            int64\n",
       "рН                           float64\n",
       "lgβ                          float64\n",
       "Электронное строение RE3+     object\n",
       "Цена                          object\n",
       "dtype: object"
      ]
     },
     "execution_count": 28,
     "metadata": {},
     "output_type": "execute_result"
    }
   ],
   "source": [
    "df_lants.dtypes"
   ]
  },
  {
   "cell_type": "code",
   "execution_count": 29,
   "metadata": {},
   "outputs": [],
   "source": [
    "schema = {\n",
    "    \"RE\":str,\n",
    "    \"rRE, (VI),Ǻ1\":float,\n",
    "    \"cRE, отн. Ед\":float,\n",
    "    \"СТ\":int,\n",
    "    \"КЧ\":int,\n",
    "    \"КЧ2\":int,\n",
    "    \"рН\":float,\n",
    "    \"lgβ\":float,\n",
    "    \"Электронное строение RE3+\":str,\n",
    "    \"Цена\":str\n",
    "}"
   ]
  },
  {
   "cell_type": "code",
   "execution_count": 30,
   "metadata": {},
   "outputs": [],
   "source": [
    "\n",
    "table = Table(schema, index=\"RE\")\n",
    "table.update(df_lants)"
   ]
  },
  {
   "cell_type": "code",
   "execution_count": 31,
   "metadata": {
    "jupyter": {
     "outputs_hidden": false
    }
   },
   "outputs": [
    {
     "name": "stdout",
     "output_type": "stream",
     "text": [
      "v1 has 16 rows and 10 columns\n"
     ]
    },
    {
     "data": {
      "text/html": [
       "<div>\n",
       "<style scoped>\n",
       "    .dataframe tbody tr th:only-of-type {\n",
       "        vertical-align: middle;\n",
       "    }\n",
       "\n",
       "    .dataframe tbody tr th {\n",
       "        vertical-align: top;\n",
       "    }\n",
       "\n",
       "    .dataframe thead th {\n",
       "        text-align: right;\n",
       "    }\n",
       "</style>\n",
       "<table border=\"1\" class=\"dataframe\">\n",
       "  <thead>\n",
       "    <tr style=\"text-align: right;\">\n",
       "      <th></th>\n",
       "      <th>RE</th>\n",
       "      <th>rRE, (VI),Ǻ1</th>\n",
       "      <th>cRE, отн. Ед</th>\n",
       "      <th>СТ</th>\n",
       "      <th>КЧ</th>\n",
       "      <th>КЧ2</th>\n",
       "      <th>рН</th>\n",
       "      <th>lgβ</th>\n",
       "      <th>Электронное строение RE3+</th>\n",
       "      <th>Цена</th>\n",
       "    </tr>\n",
       "  </thead>\n",
       "  <tbody>\n",
       "    <tr>\n",
       "      <th>0</th>\n",
       "      <td>Ca</td>\n",
       "      <td>1.00</td>\n",
       "      <td>2.20</td>\n",
       "      <td>7</td>\n",
       "      <td>6</td>\n",
       "      <td>6</td>\n",
       "      <td>5.63</td>\n",
       "      <td>None</td>\n",
       "      <td>400</td>\n",
       "      <td>2 100</td>\n",
       "    </tr>\n",
       "    <tr>\n",
       "      <th>1</th>\n",
       "      <td>Ce</td>\n",
       "      <td>1.01</td>\n",
       "      <td>2.61</td>\n",
       "      <td>1</td>\n",
       "      <td>11</td>\n",
       "      <td>11</td>\n",
       "      <td>4.20</td>\n",
       "      <td>0.9</td>\n",
       "      <td>601.43</td>\n",
       "      <td>32790</td>\n",
       "    </tr>\n",
       "    <tr>\n",
       "      <th>2</th>\n",
       "      <td>Dy</td>\n",
       "      <td>0.91</td>\n",
       "      <td>2.07</td>\n",
       "      <td>3</td>\n",
       "      <td>10</td>\n",
       "      <td>10</td>\n",
       "      <td>5.78</td>\n",
       "      <td>0.6</td>\n",
       "      <td>602.437</td>\n",
       "      <td>72000</td>\n",
       "    </tr>\n",
       "    <tr>\n",
       "      <th>3</th>\n",
       "      <td>Er</td>\n",
       "      <td>0.89</td>\n",
       "      <td>2.02</td>\n",
       "      <td>4</td>\n",
       "      <td>9</td>\n",
       "      <td>9</td>\n",
       "      <td>5.16</td>\n",
       "      <td>0.4</td>\n",
       "      <td>602.439</td>\n",
       "      <td>89500</td>\n",
       "    </tr>\n",
       "    <tr>\n",
       "      <th>4</th>\n",
       "      <td>Eu</td>\n",
       "      <td>0.95</td>\n",
       "      <td>1.81</td>\n",
       "      <td>2</td>\n",
       "      <td>10</td>\n",
       "      <td>10</td>\n",
       "      <td>5.56</td>\n",
       "      <td>0.8</td>\n",
       "      <td>602.434</td>\n",
       "      <td>134500</td>\n",
       "    </tr>\n",
       "    <tr>\n",
       "      <th>5</th>\n",
       "      <td>Gd</td>\n",
       "      <td>0.94</td>\n",
       "      <td>2.40</td>\n",
       "      <td>2</td>\n",
       "      <td>10</td>\n",
       "      <td>10</td>\n",
       "      <td>4.51</td>\n",
       "      <td>0.8</td>\n",
       "      <td>602.435.520</td>\n",
       "      <td>78450</td>\n",
       "    </tr>\n",
       "    <tr>\n",
       "      <th>6</th>\n",
       "      <td>Ho</td>\n",
       "      <td>0.90</td>\n",
       "      <td>2.12</td>\n",
       "      <td>3</td>\n",
       "      <td>9</td>\n",
       "      <td>9</td>\n",
       "      <td>5.96</td>\n",
       "      <td>0.5</td>\n",
       "      <td>602.438</td>\n",
       "      <td>16000</td>\n",
       "    </tr>\n",
       "    <tr>\n",
       "      <th>7</th>\n",
       "      <td>La</td>\n",
       "      <td>1.03</td>\n",
       "      <td>2.49</td>\n",
       "      <td>1</td>\n",
       "      <td>11</td>\n",
       "      <td>11</td>\n",
       "      <td>4.44</td>\n",
       "      <td>0.8</td>\n",
       "      <td>600.430.520</td>\n",
       "      <td>138000</td>\n",
       "    </tr>\n",
       "    <tr>\n",
       "      <th>8</th>\n",
       "      <td>Lu</td>\n",
       "      <td>0.86</td>\n",
       "      <td>2.68</td>\n",
       "      <td>7</td>\n",
       "      <td>9</td>\n",
       "      <td>9</td>\n",
       "      <td>5.50</td>\n",
       "      <td>0.6</td>\n",
       "      <td>602.4312.520</td>\n",
       "      <td>252000</td>\n",
       "    </tr>\n",
       "    <tr>\n",
       "      <th>9</th>\n",
       "      <td>Pr</td>\n",
       "      <td>0.99</td>\n",
       "      <td>2.24</td>\n",
       "      <td>2</td>\n",
       "      <td>10</td>\n",
       "      <td>10</td>\n",
       "      <td>4.51</td>\n",
       "      <td>0.9</td>\n",
       "      <td>602.43</td>\n",
       "      <td>98500</td>\n",
       "    </tr>\n",
       "    <tr>\n",
       "      <th>10</th>\n",
       "      <td>Sc</td>\n",
       "      <td>0.75</td>\n",
       "      <td>2.35</td>\n",
       "      <td>6</td>\n",
       "      <td>6</td>\n",
       "      <td>6</td>\n",
       "      <td>2.03</td>\n",
       "      <td>None</td>\n",
       "      <td>400.32</td>\n",
       "      <td>286300</td>\n",
       "    </tr>\n",
       "    <tr>\n",
       "      <th>11</th>\n",
       "      <td>Sm</td>\n",
       "      <td>0.96</td>\n",
       "      <td>1.90</td>\n",
       "      <td>2</td>\n",
       "      <td>10</td>\n",
       "      <td>10</td>\n",
       "      <td>5.08</td>\n",
       "      <td>0.9</td>\n",
       "      <td>602.433</td>\n",
       "      <td>97000</td>\n",
       "    </tr>\n",
       "    <tr>\n",
       "      <th>12</th>\n",
       "      <td>Tb</td>\n",
       "      <td>0.92</td>\n",
       "      <td>2.29</td>\n",
       "      <td>2</td>\n",
       "      <td>10</td>\n",
       "      <td>10</td>\n",
       "      <td>1.87</td>\n",
       "      <td>0.7</td>\n",
       "      <td>602.436</td>\n",
       "      <td>81650</td>\n",
       "    </tr>\n",
       "    <tr>\n",
       "      <th>13</th>\n",
       "      <td>Tm</td>\n",
       "      <td>0.88</td>\n",
       "      <td>2.03</td>\n",
       "      <td>4</td>\n",
       "      <td>9</td>\n",
       "      <td>9</td>\n",
       "      <td>5.54</td>\n",
       "      <td>0.4</td>\n",
       "      <td>602.431</td>\n",
       "      <td>44910</td>\n",
       "    </tr>\n",
       "    <tr>\n",
       "      <th>14</th>\n",
       "      <td>Y</td>\n",
       "      <td>0.90</td>\n",
       "      <td>2.52</td>\n",
       "      <td>2</td>\n",
       "      <td>10</td>\n",
       "      <td>10</td>\n",
       "      <td>5.92</td>\n",
       "      <td>0.4</td>\n",
       "      <td>500.42</td>\n",
       "      <td>15260</td>\n",
       "    </tr>\n",
       "    <tr>\n",
       "      <th>15</th>\n",
       "      <td>Yb</td>\n",
       "      <td>0.87</td>\n",
       "      <td>1.78</td>\n",
       "      <td>5</td>\n",
       "      <td>9</td>\n",
       "      <td>9</td>\n",
       "      <td>5.74</td>\n",
       "      <td>0.4</td>\n",
       "      <td>602.4311.520</td>\n",
       "      <td>84040</td>\n",
       "    </tr>\n",
       "  </tbody>\n",
       "</table>\n",
       "</div>"
      ],
      "text/plain": [
       "    RE  rRE, (VI),Ǻ1  cRE, отн. Ед  СТ  КЧ  КЧ2    рН   lgβ  \\\n",
       "0   Ca          1.00          2.20   7   6    6  5.63  None   \n",
       "1   Ce          1.01          2.61   1  11   11  4.20   0.9   \n",
       "2   Dy          0.91          2.07   3  10   10  5.78   0.6   \n",
       "3   Er          0.89          2.02   4   9    9  5.16   0.4   \n",
       "4   Eu          0.95          1.81   2  10   10  5.56   0.8   \n",
       "5   Gd          0.94          2.40   2  10   10  4.51   0.8   \n",
       "6   Ho          0.90          2.12   3   9    9  5.96   0.5   \n",
       "7   La          1.03          2.49   1  11   11  4.44   0.8   \n",
       "8   Lu          0.86          2.68   7   9    9  5.50   0.6   \n",
       "9   Pr          0.99          2.24   2  10   10  4.51   0.9   \n",
       "10  Sc          0.75          2.35   6   6    6  2.03  None   \n",
       "11  Sm          0.96          1.90   2  10   10  5.08   0.9   \n",
       "12  Tb          0.92          2.29   2  10   10  1.87   0.7   \n",
       "13  Tm          0.88          2.03   4   9    9  5.54   0.4   \n",
       "14   Y          0.90          2.52   2  10   10  5.92   0.4   \n",
       "15  Yb          0.87          1.78   5   9    9  5.74   0.4   \n",
       "\n",
       "   Электронное строение RE3+    Цена  \n",
       "0                        400   2 100  \n",
       "1                     601.43   32790  \n",
       "2                    602.437   72000  \n",
       "3                    602.439   89500  \n",
       "4                    602.434  134500  \n",
       "5                602.435.520   78450  \n",
       "6                    602.438   16000  \n",
       "7                600.430.520  138000  \n",
       "8               602.4312.520  252000  \n",
       "9                     602.43   98500  \n",
       "10                    400.32  286300  \n",
       "11                   602.433   97000  \n",
       "12                   602.436   81650  \n",
       "13                   602.431   44910  \n",
       "14                    500.42   15260  \n",
       "15              602.4311.520   84040  "
      ]
     },
     "execution_count": 31,
     "metadata": {},
     "output_type": "execute_result"
    }
   ],
   "source": [
    "v1 = table.view()\n",
    "print(\"v1 has {} rows and {} columns\".format(v1.num_rows(), v1.num_columns()))\n",
    "v1.to_df()"
   ]
  },
  {
   "cell_type": "code",
   "execution_count": 32,
   "metadata": {},
   "outputs": [],
   "source": [
    "widget = PerspectiveWidget(table)\n",
    "# f = open (r\"f:\\Repo\\ChemML\\TestVis.config.json\", \"r\")\n",
    "# config = json.load(f)\n",
    "# widget.restore(**config)"
   ]
  },
  {
   "cell_type": "code",
   "execution_count": 33,
   "metadata": {},
   "outputs": [
    {
     "data": {
      "application/vnd.jupyter.widget-view+json": {
       "model_id": "b8b8d1196d8e4002a7e5fdf7cba7d06f",
       "version_major": 2,
       "version_minor": 0
      },
      "text/plain": [
       "PerspectiveWidget(columns=['RE', 'rRE, (VI),Ǻ1', 'cRE, отн. Ед', 'СТ', 'КЧ', 'КЧ2', 'рН', 'lgβ', 'Электронное …"
      ]
     },
     "execution_count": 33,
     "metadata": {},
     "output_type": "execute_result"
    }
   ],
   "source": [
    "widget"
   ]
  },
  {
   "cell_type": "code",
   "execution_count": 21,
   "metadata": {},
   "outputs": [
    {
     "data": {
      "text/plain": [
       "{'group_by': [],\n",
       " 'split_by': [],\n",
       " 'filter': [],\n",
       " 'sort': [],\n",
       " 'aggregates': {},\n",
       " 'columns': ['RE',\n",
       "  'rRE, (VI),Ǻ1',\n",
       "  'cRE, отн. Ед',\n",
       "  'СТ',\n",
       "  'КЧ',\n",
       "  'КЧ2',\n",
       "  'рН',\n",
       "  'lgβ',\n",
       "  'Электронное строение RE3+',\n",
       "  'Цена'],\n",
       " 'expressions': [],\n",
       " 'plugin': 'Datagrid',\n",
       " 'plugin_config': {},\n",
       " 'theme': None,\n",
       " 'settings': True,\n",
       " 'title': None}"
      ]
     },
     "execution_count": 21,
     "metadata": {},
     "output_type": "execute_result"
    }
   ],
   "source": [
    "widget.save()"
   ]
  },
  {
   "cell_type": "code",
   "execution_count": null,
   "metadata": {},
   "outputs": [],
   "source": []
  }
 ],
 "metadata": {
  "kernelspec": {
   "display_name": "Python 3 (ipykernel)",
   "language": "python",
   "name": "python3"
  },
  "language_info": {
   "codemirror_mode": {
    "name": "ipython",
    "version": 3
   },
   "file_extension": ".py",
   "mimetype": "text/x-python",
   "name": "python",
   "nbconvert_exporter": "python",
   "pygments_lexer": "ipython3",
   "version": "3.9.12"
  }
 },
 "nbformat": 4,
 "nbformat_minor": 4
}
